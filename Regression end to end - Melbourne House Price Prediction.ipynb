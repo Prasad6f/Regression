{
 "cells": [
  {
   "cell_type": "code",
   "execution_count": 179,
   "id": "5cfb83a6",
   "metadata": {},
   "outputs": [],
   "source": [
    "import pandas as pd\n",
    "import numpy as np\n",
    "import matplotlib.pyplot as plt\n",
    "import statsmodels.api as sm\n",
    "from sklearn.feature_selection import RFE## Recursive Feature Elimination\n",
    "from sklearn.linear_model import LinearRegression\n",
    "from sklearn.model_selection import train_test_split\n",
    "from mlxtend.feature_selection import SequentialFeatureSelector as sfs\n",
    "from sklearn.model_selection import train_test_split\n",
    "import seaborn as sns"
   ]
  },
  {
   "cell_type": "code",
   "execution_count": 180,
   "id": "42388901",
   "metadata": {},
   "outputs": [
    {
     "name": "stdout",
     "output_type": "stream",
     "text": [
      "(34857, 21)\n"
     ]
    }
   ],
   "source": [
    "df = pd.read_csv(r'C:\\Users\\prasa\\OneDrive\\Desktop\\Regression\\Data\\Melbourne_housing_FULL.csv')\n",
    "print(df.shape)"
   ]
  },
  {
   "cell_type": "code",
   "execution_count": 181,
   "id": "c4927e96",
   "metadata": {},
   "outputs": [
    {
     "name": "stdout",
     "output_type": "stream",
     "text": [
      "<class 'pandas.core.frame.DataFrame'>\n",
      "RangeIndex: 34857 entries, 0 to 34856\n",
      "Data columns (total 21 columns):\n",
      " #   Column         Non-Null Count  Dtype  \n",
      "---  ------         --------------  -----  \n",
      " 0   Suburb         34857 non-null  object \n",
      " 1   Address        34857 non-null  object \n",
      " 2   Rooms          34857 non-null  int64  \n",
      " 3   Type           34857 non-null  object \n",
      " 4   Price          27247 non-null  float64\n",
      " 5   Method         34857 non-null  object \n",
      " 6   SellerG        34857 non-null  object \n",
      " 7   Date           34857 non-null  object \n",
      " 8   Distance       34856 non-null  float64\n",
      " 9   Postcode       34856 non-null  float64\n",
      " 10  Bedroom2       26640 non-null  float64\n",
      " 11  Bathroom       26631 non-null  float64\n",
      " 12  Car            26129 non-null  float64\n",
      " 13  Landsize       23047 non-null  float64\n",
      " 14  BuildingArea   13742 non-null  float64\n",
      " 15  YearBuilt      15551 non-null  float64\n",
      " 16  CouncilArea    34854 non-null  object \n",
      " 17  Lattitude      26881 non-null  float64\n",
      " 18  Longtitude     26881 non-null  float64\n",
      " 19  Regionname     34854 non-null  object \n",
      " 20  Propertycount  34854 non-null  float64\n",
      "dtypes: float64(12), int64(1), object(8)\n",
      "memory usage: 5.6+ MB\n"
     ]
    }
   ],
   "source": [
    "df.info()"
   ]
  },
  {
   "cell_type": "code",
   "execution_count": 182,
   "id": "c449b211",
   "metadata": {},
   "outputs": [],
   "source": [
    "df = df.sample(frac = 1) ##this is to suffle the dataset!!"
   ]
  },
  {
   "cell_type": "code",
   "execution_count": 183,
   "id": "8f00d6d1",
   "metadata": {},
   "outputs": [
    {
     "data": {
      "text/html": [
       "<div>\n",
       "<style scoped>\n",
       "    .dataframe tbody tr th:only-of-type {\n",
       "        vertical-align: middle;\n",
       "    }\n",
       "\n",
       "    .dataframe tbody tr th {\n",
       "        vertical-align: top;\n",
       "    }\n",
       "\n",
       "    .dataframe thead th {\n",
       "        text-align: right;\n",
       "    }\n",
       "</style>\n",
       "<table border=\"1\" class=\"dataframe\">\n",
       "  <thead>\n",
       "    <tr style=\"text-align: right;\">\n",
       "      <th></th>\n",
       "      <th>Suburb</th>\n",
       "      <th>Address</th>\n",
       "      <th>Rooms</th>\n",
       "      <th>Type</th>\n",
       "      <th>Price</th>\n",
       "      <th>Method</th>\n",
       "      <th>SellerG</th>\n",
       "      <th>Date</th>\n",
       "      <th>Distance</th>\n",
       "      <th>Postcode</th>\n",
       "      <th>...</th>\n",
       "      <th>Bathroom</th>\n",
       "      <th>Car</th>\n",
       "      <th>Landsize</th>\n",
       "      <th>BuildingArea</th>\n",
       "      <th>YearBuilt</th>\n",
       "      <th>CouncilArea</th>\n",
       "      <th>Lattitude</th>\n",
       "      <th>Longtitude</th>\n",
       "      <th>Regionname</th>\n",
       "      <th>Propertycount</th>\n",
       "    </tr>\n",
       "  </thead>\n",
       "  <tbody>\n",
       "    <tr>\n",
       "      <th>7575</th>\n",
       "      <td>Oakleigh South</td>\n",
       "      <td>22 Pitt St</td>\n",
       "      <td>3</td>\n",
       "      <td>h</td>\n",
       "      <td>1068000.0</td>\n",
       "      <td>S</td>\n",
       "      <td>Ray</td>\n",
       "      <td>27/11/2016</td>\n",
       "      <td>14.7</td>\n",
       "      <td>3167.0</td>\n",
       "      <td>...</td>\n",
       "      <td>2.0</td>\n",
       "      <td>2.0</td>\n",
       "      <td>609.0</td>\n",
       "      <td>172.0</td>\n",
       "      <td>1970.0</td>\n",
       "      <td>Kingston City Council</td>\n",
       "      <td>-37.92130</td>\n",
       "      <td>145.0854</td>\n",
       "      <td>South-Eastern Metropolitan</td>\n",
       "      <td>3692.0</td>\n",
       "    </tr>\n",
       "    <tr>\n",
       "      <th>29866</th>\n",
       "      <td>Sandringham</td>\n",
       "      <td>29 Victoria St</td>\n",
       "      <td>4</td>\n",
       "      <td>h</td>\n",
       "      <td>NaN</td>\n",
       "      <td>S</td>\n",
       "      <td>hockingstuart</td>\n",
       "      <td>6/01/2018</td>\n",
       "      <td>15.2</td>\n",
       "      <td>3191.0</td>\n",
       "      <td>...</td>\n",
       "      <td>2.0</td>\n",
       "      <td>3.0</td>\n",
       "      <td>NaN</td>\n",
       "      <td>NaN</td>\n",
       "      <td>NaN</td>\n",
       "      <td>Bayside City Council</td>\n",
       "      <td>-37.95635</td>\n",
       "      <td>145.0143</td>\n",
       "      <td>Southern Metropolitan</td>\n",
       "      <td>4497.0</td>\n",
       "    </tr>\n",
       "    <tr>\n",
       "      <th>24425</th>\n",
       "      <td>Glen Iris</td>\n",
       "      <td>18/1737 Malvern Rd</td>\n",
       "      <td>3</td>\n",
       "      <td>u</td>\n",
       "      <td>800000.0</td>\n",
       "      <td>VB</td>\n",
       "      <td>Marshall</td>\n",
       "      <td>14/10/2017</td>\n",
       "      <td>7.3</td>\n",
       "      <td>3146.0</td>\n",
       "      <td>...</td>\n",
       "      <td>NaN</td>\n",
       "      <td>NaN</td>\n",
       "      <td>NaN</td>\n",
       "      <td>NaN</td>\n",
       "      <td>NaN</td>\n",
       "      <td>Boroondara City Council</td>\n",
       "      <td>NaN</td>\n",
       "      <td>NaN</td>\n",
       "      <td>Southern Metropolitan</td>\n",
       "      <td>10412.0</td>\n",
       "    </tr>\n",
       "    <tr>\n",
       "      <th>678</th>\n",
       "      <td>Ashburton</td>\n",
       "      <td>15 Lancaster St</td>\n",
       "      <td>4</td>\n",
       "      <td>h</td>\n",
       "      <td>1280000.0</td>\n",
       "      <td>S</td>\n",
       "      <td>Fletchers</td>\n",
       "      <td>30/07/2016</td>\n",
       "      <td>11.0</td>\n",
       "      <td>3147.0</td>\n",
       "      <td>...</td>\n",
       "      <td>NaN</td>\n",
       "      <td>NaN</td>\n",
       "      <td>NaN</td>\n",
       "      <td>NaN</td>\n",
       "      <td>NaN</td>\n",
       "      <td>Boroondara City Council</td>\n",
       "      <td>NaN</td>\n",
       "      <td>NaN</td>\n",
       "      <td>Southern Metropolitan</td>\n",
       "      <td>3052.0</td>\n",
       "    </tr>\n",
       "    <tr>\n",
       "      <th>27325</th>\n",
       "      <td>South Yarra</td>\n",
       "      <td>7/49 Adams St</td>\n",
       "      <td>1</td>\n",
       "      <td>u</td>\n",
       "      <td>539000.0</td>\n",
       "      <td>S</td>\n",
       "      <td>Williams</td>\n",
       "      <td>11/11/2017</td>\n",
       "      <td>2.7</td>\n",
       "      <td>3141.0</td>\n",
       "      <td>...</td>\n",
       "      <td>NaN</td>\n",
       "      <td>NaN</td>\n",
       "      <td>NaN</td>\n",
       "      <td>NaN</td>\n",
       "      <td>NaN</td>\n",
       "      <td>Melbourne City Council</td>\n",
       "      <td>NaN</td>\n",
       "      <td>NaN</td>\n",
       "      <td>Southern Metropolitan</td>\n",
       "      <td>14887.0</td>\n",
       "    </tr>\n",
       "  </tbody>\n",
       "</table>\n",
       "<p>5 rows × 21 columns</p>\n",
       "</div>"
      ],
      "text/plain": [
       "               Suburb             Address  Rooms Type      Price Method  \\\n",
       "7575   Oakleigh South          22 Pitt St      3    h  1068000.0      S   \n",
       "29866     Sandringham      29 Victoria St      4    h        NaN      S   \n",
       "24425       Glen Iris  18/1737 Malvern Rd      3    u   800000.0     VB   \n",
       "678         Ashburton     15 Lancaster St      4    h  1280000.0      S   \n",
       "27325     South Yarra       7/49 Adams St      1    u   539000.0      S   \n",
       "\n",
       "             SellerG        Date  Distance  Postcode  ...  Bathroom  Car  \\\n",
       "7575             Ray  27/11/2016      14.7    3167.0  ...       2.0  2.0   \n",
       "29866  hockingstuart   6/01/2018      15.2    3191.0  ...       2.0  3.0   \n",
       "24425       Marshall  14/10/2017       7.3    3146.0  ...       NaN  NaN   \n",
       "678        Fletchers  30/07/2016      11.0    3147.0  ...       NaN  NaN   \n",
       "27325       Williams  11/11/2017       2.7    3141.0  ...       NaN  NaN   \n",
       "\n",
       "       Landsize  BuildingArea  YearBuilt              CouncilArea Lattitude  \\\n",
       "7575      609.0         172.0     1970.0    Kingston City Council -37.92130   \n",
       "29866       NaN           NaN        NaN     Bayside City Council -37.95635   \n",
       "24425       NaN           NaN        NaN  Boroondara City Council       NaN   \n",
       "678         NaN           NaN        NaN  Boroondara City Council       NaN   \n",
       "27325       NaN           NaN        NaN   Melbourne City Council       NaN   \n",
       "\n",
       "       Longtitude                  Regionname Propertycount  \n",
       "7575     145.0854  South-Eastern Metropolitan        3692.0  \n",
       "29866    145.0143       Southern Metropolitan        4497.0  \n",
       "24425         NaN       Southern Metropolitan       10412.0  \n",
       "678           NaN       Southern Metropolitan        3052.0  \n",
       "27325         NaN       Southern Metropolitan       14887.0  \n",
       "\n",
       "[5 rows x 21 columns]"
      ]
     },
     "execution_count": 183,
     "metadata": {},
     "output_type": "execute_result"
    }
   ],
   "source": [
    "df.head()"
   ]
  },
  {
   "cell_type": "code",
   "execution_count": 184,
   "id": "4607fccf",
   "metadata": {},
   "outputs": [
    {
     "data": {
      "text/plain": [
       "count    2.724700e+04\n",
       "mean     1.050173e+06\n",
       "std      6.414671e+05\n",
       "min      8.500000e+04\n",
       "25%      6.350000e+05\n",
       "50%      8.700000e+05\n",
       "75%      1.295000e+06\n",
       "max      1.120000e+07\n",
       "Name: Price, dtype: float64"
      ]
     },
     "execution_count": 184,
     "metadata": {},
     "output_type": "execute_result"
    }
   ],
   "source": [
    " df.Price.describe()"
   ]
  },
  {
   "cell_type": "markdown",
   "id": "ab3b49bd",
   "metadata": {},
   "source": [
    "We cant use the rows in depend. variable that has NaN values. Just drop it"
   ]
  },
  {
   "cell_type": "code",
   "execution_count": 185,
   "id": "7ca95ade",
   "metadata": {},
   "outputs": [
    {
     "data": {
      "text/html": [
       "<div>\n",
       "<style scoped>\n",
       "    .dataframe tbody tr th:only-of-type {\n",
       "        vertical-align: middle;\n",
       "    }\n",
       "\n",
       "    .dataframe tbody tr th {\n",
       "        vertical-align: top;\n",
       "    }\n",
       "\n",
       "    .dataframe thead th {\n",
       "        text-align: right;\n",
       "    }\n",
       "</style>\n",
       "<table border=\"1\" class=\"dataframe\">\n",
       "  <thead>\n",
       "    <tr style=\"text-align: right;\">\n",
       "      <th></th>\n",
       "      <th>Suburb</th>\n",
       "      <th>Address</th>\n",
       "      <th>Rooms</th>\n",
       "      <th>Type</th>\n",
       "      <th>Price</th>\n",
       "      <th>Method</th>\n",
       "      <th>SellerG</th>\n",
       "      <th>Date</th>\n",
       "      <th>Distance</th>\n",
       "      <th>Postcode</th>\n",
       "      <th>...</th>\n",
       "      <th>Bathroom</th>\n",
       "      <th>Car</th>\n",
       "      <th>Landsize</th>\n",
       "      <th>BuildingArea</th>\n",
       "      <th>YearBuilt</th>\n",
       "      <th>CouncilArea</th>\n",
       "      <th>Lattitude</th>\n",
       "      <th>Longtitude</th>\n",
       "      <th>Regionname</th>\n",
       "      <th>Propertycount</th>\n",
       "    </tr>\n",
       "  </thead>\n",
       "  <tbody>\n",
       "    <tr>\n",
       "      <th>7575</th>\n",
       "      <td>Oakleigh South</td>\n",
       "      <td>22 Pitt St</td>\n",
       "      <td>3</td>\n",
       "      <td>h</td>\n",
       "      <td>1068000.0</td>\n",
       "      <td>S</td>\n",
       "      <td>Ray</td>\n",
       "      <td>27/11/2016</td>\n",
       "      <td>14.7</td>\n",
       "      <td>3167.0</td>\n",
       "      <td>...</td>\n",
       "      <td>2.0</td>\n",
       "      <td>2.0</td>\n",
       "      <td>609.0</td>\n",
       "      <td>172.0</td>\n",
       "      <td>1970.0</td>\n",
       "      <td>Kingston City Council</td>\n",
       "      <td>-37.9213</td>\n",
       "      <td>145.0854</td>\n",
       "      <td>South-Eastern Metropolitan</td>\n",
       "      <td>3692.0</td>\n",
       "    </tr>\n",
       "    <tr>\n",
       "      <th>24425</th>\n",
       "      <td>Glen Iris</td>\n",
       "      <td>18/1737 Malvern Rd</td>\n",
       "      <td>3</td>\n",
       "      <td>u</td>\n",
       "      <td>800000.0</td>\n",
       "      <td>VB</td>\n",
       "      <td>Marshall</td>\n",
       "      <td>14/10/2017</td>\n",
       "      <td>7.3</td>\n",
       "      <td>3146.0</td>\n",
       "      <td>...</td>\n",
       "      <td>NaN</td>\n",
       "      <td>NaN</td>\n",
       "      <td>NaN</td>\n",
       "      <td>NaN</td>\n",
       "      <td>NaN</td>\n",
       "      <td>Boroondara City Council</td>\n",
       "      <td>NaN</td>\n",
       "      <td>NaN</td>\n",
       "      <td>Southern Metropolitan</td>\n",
       "      <td>10412.0</td>\n",
       "    </tr>\n",
       "    <tr>\n",
       "      <th>678</th>\n",
       "      <td>Ashburton</td>\n",
       "      <td>15 Lancaster St</td>\n",
       "      <td>4</td>\n",
       "      <td>h</td>\n",
       "      <td>1280000.0</td>\n",
       "      <td>S</td>\n",
       "      <td>Fletchers</td>\n",
       "      <td>30/07/2016</td>\n",
       "      <td>11.0</td>\n",
       "      <td>3147.0</td>\n",
       "      <td>...</td>\n",
       "      <td>NaN</td>\n",
       "      <td>NaN</td>\n",
       "      <td>NaN</td>\n",
       "      <td>NaN</td>\n",
       "      <td>NaN</td>\n",
       "      <td>Boroondara City Council</td>\n",
       "      <td>NaN</td>\n",
       "      <td>NaN</td>\n",
       "      <td>Southern Metropolitan</td>\n",
       "      <td>3052.0</td>\n",
       "    </tr>\n",
       "    <tr>\n",
       "      <th>27325</th>\n",
       "      <td>South Yarra</td>\n",
       "      <td>7/49 Adams St</td>\n",
       "      <td>1</td>\n",
       "      <td>u</td>\n",
       "      <td>539000.0</td>\n",
       "      <td>S</td>\n",
       "      <td>Williams</td>\n",
       "      <td>11/11/2017</td>\n",
       "      <td>2.7</td>\n",
       "      <td>3141.0</td>\n",
       "      <td>...</td>\n",
       "      <td>NaN</td>\n",
       "      <td>NaN</td>\n",
       "      <td>NaN</td>\n",
       "      <td>NaN</td>\n",
       "      <td>NaN</td>\n",
       "      <td>Melbourne City Council</td>\n",
       "      <td>NaN</td>\n",
       "      <td>NaN</td>\n",
       "      <td>Southern Metropolitan</td>\n",
       "      <td>14887.0</td>\n",
       "    </tr>\n",
       "    <tr>\n",
       "      <th>28075</th>\n",
       "      <td>Port Melbourne</td>\n",
       "      <td>213/99 Nott St</td>\n",
       "      <td>1</td>\n",
       "      <td>u</td>\n",
       "      <td>400000.0</td>\n",
       "      <td>PI</td>\n",
       "      <td>Dingle</td>\n",
       "      <td>18/11/2017</td>\n",
       "      <td>3.5</td>\n",
       "      <td>3207.0</td>\n",
       "      <td>...</td>\n",
       "      <td>NaN</td>\n",
       "      <td>NaN</td>\n",
       "      <td>NaN</td>\n",
       "      <td>NaN</td>\n",
       "      <td>NaN</td>\n",
       "      <td>Melbourne City Council</td>\n",
       "      <td>NaN</td>\n",
       "      <td>NaN</td>\n",
       "      <td>Southern Metropolitan</td>\n",
       "      <td>8648.0</td>\n",
       "    </tr>\n",
       "  </tbody>\n",
       "</table>\n",
       "<p>5 rows × 21 columns</p>\n",
       "</div>"
      ],
      "text/plain": [
       "               Suburb             Address  Rooms Type      Price Method  \\\n",
       "7575   Oakleigh South          22 Pitt St      3    h  1068000.0      S   \n",
       "24425       Glen Iris  18/1737 Malvern Rd      3    u   800000.0     VB   \n",
       "678         Ashburton     15 Lancaster St      4    h  1280000.0      S   \n",
       "27325     South Yarra       7/49 Adams St      1    u   539000.0      S   \n",
       "28075  Port Melbourne      213/99 Nott St      1    u   400000.0     PI   \n",
       "\n",
       "         SellerG        Date  Distance  Postcode  ...  Bathroom  Car  \\\n",
       "7575         Ray  27/11/2016      14.7    3167.0  ...       2.0  2.0   \n",
       "24425   Marshall  14/10/2017       7.3    3146.0  ...       NaN  NaN   \n",
       "678    Fletchers  30/07/2016      11.0    3147.0  ...       NaN  NaN   \n",
       "27325   Williams  11/11/2017       2.7    3141.0  ...       NaN  NaN   \n",
       "28075     Dingle  18/11/2017       3.5    3207.0  ...       NaN  NaN   \n",
       "\n",
       "       Landsize  BuildingArea  YearBuilt              CouncilArea Lattitude  \\\n",
       "7575      609.0         172.0     1970.0    Kingston City Council  -37.9213   \n",
       "24425       NaN           NaN        NaN  Boroondara City Council       NaN   \n",
       "678         NaN           NaN        NaN  Boroondara City Council       NaN   \n",
       "27325       NaN           NaN        NaN   Melbourne City Council       NaN   \n",
       "28075       NaN           NaN        NaN   Melbourne City Council       NaN   \n",
       "\n",
       "       Longtitude                  Regionname Propertycount  \n",
       "7575     145.0854  South-Eastern Metropolitan        3692.0  \n",
       "24425         NaN       Southern Metropolitan       10412.0  \n",
       "678           NaN       Southern Metropolitan        3052.0  \n",
       "27325         NaN       Southern Metropolitan       14887.0  \n",
       "28075         NaN       Southern Metropolitan        8648.0  \n",
       "\n",
       "[5 rows x 21 columns]"
      ]
     },
     "execution_count": 185,
     "metadata": {},
     "output_type": "execute_result"
    }
   ],
   "source": [
    "df = df[df['Price']>0]\n",
    "df.head()"
   ]
  },
  {
   "cell_type": "code",
   "execution_count": 186,
   "id": "c0183b42",
   "metadata": {},
   "outputs": [
    {
     "data": {
      "text/plain": [
       "Distance             1\n",
       "Postcode             1\n",
       "Bedroom2          6441\n",
       "Bathroom          6447\n",
       "Car               6824\n",
       "Landsize          9265\n",
       "BuildingArea     16591\n",
       "YearBuilt        15163\n",
       "CouncilArea          3\n",
       "Lattitude         6254\n",
       "Longtitude        6254\n",
       "Regionname           3\n",
       "Propertycount        3\n",
       "dtype: int64"
      ]
     },
     "execution_count": 186,
     "metadata": {},
     "output_type": "execute_result"
    }
   ],
   "source": [
    "ms = df.isnull().sum()\n",
    "ms[ms>0]"
   ]
  },
  {
   "cell_type": "code",
   "execution_count": 187,
   "id": "398f0397",
   "metadata": {},
   "outputs": [
    {
     "name": "stderr",
     "output_type": "stream",
     "text": [
      "C:\\Users\\prasa\\Anaconda3\\lib\\site-packages\\seaborn\\distributions.py:2557: FutureWarning: `distplot` is a deprecated function and will be removed in a future version. Please adapt your code to use either `displot` (a figure-level function with similar flexibility) or `histplot` (an axes-level function for histograms).\n",
      "  warnings.warn(msg, FutureWarning)\n"
     ]
    },
    {
     "data": {
      "text/plain": [
       "<AxesSubplot:xlabel='Price', ylabel='Density'>"
      ]
     },
     "execution_count": 187,
     "metadata": {},
     "output_type": "execute_result"
    },
    {
     "data": {
      "image/png": "[encoded data removed]",
      "text/plain": [
       "<Figure size 432x288 with 1 Axes>"
      ]
     },
     "metadata": {
      "needs_background": "light"
     },
     "output_type": "display_data"
    }
   ],
   "source": [
    "sns.distplot(df.Price)"
   ]
  },
  {
   "cell_type": "code",
   "execution_count": 188,
   "id": "d391741b",
   "metadata": {},
   "outputs": [
    {
     "data": {
      "text/plain": [
       "2.58896934105286"
      ]
     },
     "execution_count": 188,
     "metadata": {},
     "output_type": "execute_result"
    }
   ],
   "source": [
    "df['Price'].skew() #Extremely right skewed"
   ]
  },
  {
   "cell_type": "code",
   "execution_count": 189,
   "id": "5b444d1d",
   "metadata": {},
   "outputs": [],
   "source": [
    "#Here the analysis includes the houses of mid level & premium type and so comes the outliers. The max value is very much deviated \n",
    "# from Q3, so it essential to remove the outliers.."
   ]
  },
  {
   "cell_type": "code",
   "execution_count": 190,
   "id": "48ce682b",
   "metadata": {},
   "outputs": [
    {
     "name": "stderr",
     "output_type": "stream",
     "text": [
      "C:\\Users\\prasa\\Anaconda3\\lib\\site-packages\\seaborn\\_decorators.py:36: FutureWarning: Pass the following variable as a keyword arg: x. From version 0.12, the only valid positional argument will be `data`, and passing other arguments without an explicit keyword will result in an error or misinterpretation.\n",
      "  warnings.warn(\n"
     ]
    },
    {
     "data": {
      "text/plain": [
       "<AxesSubplot:xlabel='Price'>"
      ]
     },
     "execution_count": 190,
     "metadata": {},
     "output_type": "execute_result"
    },
    {
     "data": {
      "image/png": "[encoded data removed]",
      "text/plain": [
       "<Figure size 432x288 with 1 Axes>"
      ]
     },
     "metadata": {
      "needs_background": "light"
     },
     "output_type": "display_data"
    }
   ],
   "source": [
    "sns.boxplot(df.Price)"
   ]
  },
  {
   "cell_type": "markdown",
   "id": "562a5225",
   "metadata": {},
   "source": [
    "We are removing outliers using IQR approach!!"
   ]
  },
  {
   "cell_type": "code",
   "execution_count": 191,
   "id": "6983cae0",
   "metadata": {},
   "outputs": [],
   "source": [
    "q1 = df.Price.quantile(0.25)\n",
    "q3 = df.Price.quantile(0.75)\n",
    "IQR = q3 - q1\n",
    "low  = q1-1.5*IQR\n",
    "high = q3+1.5*IQR\n",
    "\n",
    "df = df[(df['Price']<high)]"
   ]
  },
  {
   "cell_type": "code",
   "execution_count": 192,
   "id": "145a00d1",
   "metadata": {},
   "outputs": [
    {
     "data": {
      "text/plain": [
       "2285000.0"
      ]
     },
     "execution_count": 192,
     "metadata": {},
     "output_type": "execute_result"
    }
   ],
   "source": [
    "high"
   ]
  },
  {
   "cell_type": "code",
   "execution_count": 193,
   "id": "5ecfb012",
   "metadata": {},
   "outputs": [
    {
     "name": "stderr",
     "output_type": "stream",
     "text": [
      "C:\\Users\\prasa\\Anaconda3\\lib\\site-packages\\seaborn\\distributions.py:2557: FutureWarning: `distplot` is a deprecated function and will be removed in a future version. Please adapt your code to use either `displot` (a figure-level function with similar flexibility) or `histplot` (an axes-level function for histograms).\n",
      "  warnings.warn(msg, FutureWarning)\n"
     ]
    },
    {
     "data": {
      "text/plain": [
       "<AxesSubplot:xlabel='Price', ylabel='Density'>"
      ]
     },
     "execution_count": 193,
     "metadata": {},
     "output_type": "execute_result"
    },
    {
     "data": {
      "image/png": "[encoded data removed]",
      "text/plain": [
       "<Figure size 432x288 with 1 Axes>"
      ]
     },
     "metadata": {
      "needs_background": "light"
     },
     "output_type": "display_data"
    }
   ],
   "source": [
    "sns.distplot(df.Price)"
   ]
  },
  {
   "cell_type": "code",
   "execution_count": 194,
   "id": "77f6dfb7",
   "metadata": {},
   "outputs": [
    {
     "data": {
      "text/plain": [
       "0.8588212983646799"
      ]
     },
     "execution_count": 194,
     "metadata": {},
     "output_type": "execute_result"
    }
   ],
   "source": [
    "df['Price'].skew()"
   ]
  },
  {
   "cell_type": "code",
   "execution_count": 195,
   "id": "c51204fa",
   "metadata": {},
   "outputs": [
    {
     "data": {
      "text/plain": [
       "Distance         0.000039\n",
       "Postcode         0.000039\n",
       "Bedroom2         0.240612\n",
       "Bathroom         0.240766\n",
       "Car              0.254863\n",
       "Landsize         0.344221\n",
       "BuildingArea     0.613026\n",
       "YearBuilt        0.560605\n",
       "CouncilArea      0.000116\n",
       "Lattitude        0.233679\n",
       "Longtitude       0.233679\n",
       "Regionname       0.000116\n",
       "Propertycount    0.000116\n",
       "dtype: float64"
      ]
     },
     "execution_count": 195,
     "metadata": {},
     "output_type": "execute_result"
    }
   ],
   "source": [
    "ms = df.isnull().sum()\n",
    "ms[ms>0]/len(df)"
   ]
  },
  {
   "cell_type": "markdown",
   "id": "e7e8b0fe",
   "metadata": {},
   "source": [
    "In the above info.. in the features of Building area & YearBuilt have more than 50% NaN values. So we can drop those variables."
   ]
  },
  {
   "cell_type": "code",
   "execution_count": 196,
   "id": "96a7b433",
   "metadata": {},
   "outputs": [
    {
     "data": {
      "text/html": [
       "<div>\n",
       "<style scoped>\n",
       "    .dataframe tbody tr th:only-of-type {\n",
       "        vertical-align: middle;\n",
       "    }\n",
       "\n",
       "    .dataframe tbody tr th {\n",
       "        vertical-align: top;\n",
       "    }\n",
       "\n",
       "    .dataframe thead th {\n",
       "        text-align: right;\n",
       "    }\n",
       "</style>\n",
       "<table border=\"1\" class=\"dataframe\">\n",
       "  <thead>\n",
       "    <tr style=\"text-align: right;\">\n",
       "      <th></th>\n",
       "      <th>Suburb</th>\n",
       "      <th>Address</th>\n",
       "      <th>Rooms</th>\n",
       "      <th>Type</th>\n",
       "      <th>Price</th>\n",
       "      <th>Method</th>\n",
       "      <th>SellerG</th>\n",
       "      <th>Date</th>\n",
       "      <th>Distance</th>\n",
       "      <th>Postcode</th>\n",
       "      <th>Bedroom2</th>\n",
       "      <th>Bathroom</th>\n",
       "      <th>Car</th>\n",
       "      <th>Landsize</th>\n",
       "      <th>CouncilArea</th>\n",
       "      <th>Lattitude</th>\n",
       "      <th>Longtitude</th>\n",
       "      <th>Regionname</th>\n",
       "      <th>Propertycount</th>\n",
       "    </tr>\n",
       "  </thead>\n",
       "  <tbody>\n",
       "    <tr>\n",
       "      <th>7575</th>\n",
       "      <td>Oakleigh South</td>\n",
       "      <td>22 Pitt St</td>\n",
       "      <td>3</td>\n",
       "      <td>h</td>\n",
       "      <td>1068000.0</td>\n",
       "      <td>S</td>\n",
       "      <td>Ray</td>\n",
       "      <td>27/11/2016</td>\n",
       "      <td>14.7</td>\n",
       "      <td>3167.0</td>\n",
       "      <td>3.0</td>\n",
       "      <td>2.0</td>\n",
       "      <td>2.0</td>\n",
       "      <td>609.0</td>\n",
       "      <td>Kingston City Council</td>\n",
       "      <td>-37.92130</td>\n",
       "      <td>145.08540</td>\n",
       "      <td>South-Eastern Metropolitan</td>\n",
       "      <td>3692.0</td>\n",
       "    </tr>\n",
       "    <tr>\n",
       "      <th>24425</th>\n",
       "      <td>Glen Iris</td>\n",
       "      <td>18/1737 Malvern Rd</td>\n",
       "      <td>3</td>\n",
       "      <td>u</td>\n",
       "      <td>800000.0</td>\n",
       "      <td>VB</td>\n",
       "      <td>Marshall</td>\n",
       "      <td>14/10/2017</td>\n",
       "      <td>7.3</td>\n",
       "      <td>3146.0</td>\n",
       "      <td>NaN</td>\n",
       "      <td>NaN</td>\n",
       "      <td>NaN</td>\n",
       "      <td>NaN</td>\n",
       "      <td>Boroondara City Council</td>\n",
       "      <td>NaN</td>\n",
       "      <td>NaN</td>\n",
       "      <td>Southern Metropolitan</td>\n",
       "      <td>10412.0</td>\n",
       "    </tr>\n",
       "    <tr>\n",
       "      <th>678</th>\n",
       "      <td>Ashburton</td>\n",
       "      <td>15 Lancaster St</td>\n",
       "      <td>4</td>\n",
       "      <td>h</td>\n",
       "      <td>1280000.0</td>\n",
       "      <td>S</td>\n",
       "      <td>Fletchers</td>\n",
       "      <td>30/07/2016</td>\n",
       "      <td>11.0</td>\n",
       "      <td>3147.0</td>\n",
       "      <td>NaN</td>\n",
       "      <td>NaN</td>\n",
       "      <td>NaN</td>\n",
       "      <td>NaN</td>\n",
       "      <td>Boroondara City Council</td>\n",
       "      <td>NaN</td>\n",
       "      <td>NaN</td>\n",
       "      <td>Southern Metropolitan</td>\n",
       "      <td>3052.0</td>\n",
       "    </tr>\n",
       "    <tr>\n",
       "      <th>27325</th>\n",
       "      <td>South Yarra</td>\n",
       "      <td>7/49 Adams St</td>\n",
       "      <td>1</td>\n",
       "      <td>u</td>\n",
       "      <td>539000.0</td>\n",
       "      <td>S</td>\n",
       "      <td>Williams</td>\n",
       "      <td>11/11/2017</td>\n",
       "      <td>2.7</td>\n",
       "      <td>3141.0</td>\n",
       "      <td>NaN</td>\n",
       "      <td>NaN</td>\n",
       "      <td>NaN</td>\n",
       "      <td>NaN</td>\n",
       "      <td>Melbourne City Council</td>\n",
       "      <td>NaN</td>\n",
       "      <td>NaN</td>\n",
       "      <td>Southern Metropolitan</td>\n",
       "      <td>14887.0</td>\n",
       "    </tr>\n",
       "    <tr>\n",
       "      <th>28075</th>\n",
       "      <td>Port Melbourne</td>\n",
       "      <td>213/99 Nott St</td>\n",
       "      <td>1</td>\n",
       "      <td>u</td>\n",
       "      <td>400000.0</td>\n",
       "      <td>PI</td>\n",
       "      <td>Dingle</td>\n",
       "      <td>18/11/2017</td>\n",
       "      <td>3.5</td>\n",
       "      <td>3207.0</td>\n",
       "      <td>NaN</td>\n",
       "      <td>NaN</td>\n",
       "      <td>NaN</td>\n",
       "      <td>NaN</td>\n",
       "      <td>Melbourne City Council</td>\n",
       "      <td>NaN</td>\n",
       "      <td>NaN</td>\n",
       "      <td>Southern Metropolitan</td>\n",
       "      <td>8648.0</td>\n",
       "    </tr>\n",
       "    <tr>\n",
       "      <th>...</th>\n",
       "      <td>...</td>\n",
       "      <td>...</td>\n",
       "      <td>...</td>\n",
       "      <td>...</td>\n",
       "      <td>...</td>\n",
       "      <td>...</td>\n",
       "      <td>...</td>\n",
       "      <td>...</td>\n",
       "      <td>...</td>\n",
       "      <td>...</td>\n",
       "      <td>...</td>\n",
       "      <td>...</td>\n",
       "      <td>...</td>\n",
       "      <td>...</td>\n",
       "      <td>...</td>\n",
       "      <td>...</td>\n",
       "      <td>...</td>\n",
       "      <td>...</td>\n",
       "      <td>...</td>\n",
       "    </tr>\n",
       "    <tr>\n",
       "      <th>9736</th>\n",
       "      <td>Strathmore</td>\n",
       "      <td>7 Colclough Ct</td>\n",
       "      <td>5</td>\n",
       "      <td>h</td>\n",
       "      <td>960000.0</td>\n",
       "      <td>VB</td>\n",
       "      <td>Nelson</td>\n",
       "      <td>27/06/2016</td>\n",
       "      <td>9.7</td>\n",
       "      <td>3041.0</td>\n",
       "      <td>5.0</td>\n",
       "      <td>3.0</td>\n",
       "      <td>2.0</td>\n",
       "      <td>387.0</td>\n",
       "      <td>Moonee Valley City Council</td>\n",
       "      <td>-37.72250</td>\n",
       "      <td>144.90550</td>\n",
       "      <td>Western Metropolitan</td>\n",
       "      <td>3284.0</td>\n",
       "    </tr>\n",
       "    <tr>\n",
       "      <th>19522</th>\n",
       "      <td>Kensington</td>\n",
       "      <td>509/72 Altona St</td>\n",
       "      <td>2</td>\n",
       "      <td>u</td>\n",
       "      <td>501000.0</td>\n",
       "      <td>SP</td>\n",
       "      <td>Jellis</td>\n",
       "      <td>29/07/2017</td>\n",
       "      <td>3.4</td>\n",
       "      <td>3031.0</td>\n",
       "      <td>2.0</td>\n",
       "      <td>1.0</td>\n",
       "      <td>1.0</td>\n",
       "      <td>3957.0</td>\n",
       "      <td>Melbourne City Council</td>\n",
       "      <td>-37.79741</td>\n",
       "      <td>144.92614</td>\n",
       "      <td>Northern Metropolitan</td>\n",
       "      <td>5263.0</td>\n",
       "    </tr>\n",
       "    <tr>\n",
       "      <th>21705</th>\n",
       "      <td>Blackburn</td>\n",
       "      <td>2A Kerr St</td>\n",
       "      <td>3</td>\n",
       "      <td>t</td>\n",
       "      <td>881000.0</td>\n",
       "      <td>S</td>\n",
       "      <td>Jellis</td>\n",
       "      <td>19/08/2017</td>\n",
       "      <td>13.4</td>\n",
       "      <td>3130.0</td>\n",
       "      <td>3.0</td>\n",
       "      <td>1.0</td>\n",
       "      <td>1.0</td>\n",
       "      <td>300.0</td>\n",
       "      <td>Whitehorse City Council</td>\n",
       "      <td>-37.81156</td>\n",
       "      <td>145.14057</td>\n",
       "      <td>Eastern Metropolitan</td>\n",
       "      <td>5713.0</td>\n",
       "    </tr>\n",
       "    <tr>\n",
       "      <th>23280</th>\n",
       "      <td>Malvern East</td>\n",
       "      <td>1B The Grange</td>\n",
       "      <td>2</td>\n",
       "      <td>h</td>\n",
       "      <td>1365000.0</td>\n",
       "      <td>S</td>\n",
       "      <td>Jellis</td>\n",
       "      <td>26/08/2017</td>\n",
       "      <td>8.4</td>\n",
       "      <td>3145.0</td>\n",
       "      <td>2.0</td>\n",
       "      <td>1.0</td>\n",
       "      <td>2.0</td>\n",
       "      <td>NaN</td>\n",
       "      <td>Stonnington City Council</td>\n",
       "      <td>-37.87394</td>\n",
       "      <td>145.05343</td>\n",
       "      <td>Southern Metropolitan</td>\n",
       "      <td>8801.0</td>\n",
       "    </tr>\n",
       "    <tr>\n",
       "      <th>26812</th>\n",
       "      <td>Boronia</td>\n",
       "      <td>117 Kanooka Rd</td>\n",
       "      <td>4</td>\n",
       "      <td>h</td>\n",
       "      <td>878000.0</td>\n",
       "      <td>S</td>\n",
       "      <td>Barry</td>\n",
       "      <td>11/11/2017</td>\n",
       "      <td>25.0</td>\n",
       "      <td>3155.0</td>\n",
       "      <td>4.0</td>\n",
       "      <td>2.0</td>\n",
       "      <td>4.0</td>\n",
       "      <td>730.0</td>\n",
       "      <td>Knox City Council</td>\n",
       "      <td>-37.85870</td>\n",
       "      <td>145.25850</td>\n",
       "      <td>Eastern Metropolitan</td>\n",
       "      <td>9704.0</td>\n",
       "    </tr>\n",
       "  </tbody>\n",
       "</table>\n",
       "<p>25963 rows × 19 columns</p>\n",
       "</div>"
      ],
      "text/plain": [
       "               Suburb             Address  Rooms Type      Price Method  \\\n",
       "7575   Oakleigh South          22 Pitt St      3    h  1068000.0      S   \n",
       "24425       Glen Iris  18/1737 Malvern Rd      3    u   800000.0     VB   \n",
       "678         Ashburton     15 Lancaster St      4    h  1280000.0      S   \n",
       "27325     South Yarra       7/49 Adams St      1    u   539000.0      S   \n",
       "28075  Port Melbourne      213/99 Nott St      1    u   400000.0     PI   \n",
       "...               ...                 ...    ...  ...        ...    ...   \n",
       "9736       Strathmore      7 Colclough Ct      5    h   960000.0     VB   \n",
       "19522      Kensington    509/72 Altona St      2    u   501000.0     SP   \n",
       "21705       Blackburn          2A Kerr St      3    t   881000.0      S   \n",
       "23280    Malvern East       1B The Grange      2    h  1365000.0      S   \n",
       "26812         Boronia      117 Kanooka Rd      4    h   878000.0      S   \n",
       "\n",
       "         SellerG        Date  Distance  Postcode  Bedroom2  Bathroom  Car  \\\n",
       "7575         Ray  27/11/2016      14.7    3167.0       3.0       2.0  2.0   \n",
       "24425   Marshall  14/10/2017       7.3    3146.0       NaN       NaN  NaN   \n",
       "678    Fletchers  30/07/2016      11.0    3147.0       NaN       NaN  NaN   \n",
       "27325   Williams  11/11/2017       2.7    3141.0       NaN       NaN  NaN   \n",
       "28075     Dingle  18/11/2017       3.5    3207.0       NaN       NaN  NaN   \n",
       "...          ...         ...       ...       ...       ...       ...  ...   \n",
       "9736      Nelson  27/06/2016       9.7    3041.0       5.0       3.0  2.0   \n",
       "19522     Jellis  29/07/2017       3.4    3031.0       2.0       1.0  1.0   \n",
       "21705     Jellis  19/08/2017      13.4    3130.0       3.0       1.0  1.0   \n",
       "23280     Jellis  26/08/2017       8.4    3145.0       2.0       1.0  2.0   \n",
       "26812      Barry  11/11/2017      25.0    3155.0       4.0       2.0  4.0   \n",
       "\n",
       "       Landsize                 CouncilArea  Lattitude  Longtitude  \\\n",
       "7575      609.0       Kingston City Council  -37.92130   145.08540   \n",
       "24425       NaN     Boroondara City Council        NaN         NaN   \n",
       "678         NaN     Boroondara City Council        NaN         NaN   \n",
       "27325       NaN      Melbourne City Council        NaN         NaN   \n",
       "28075       NaN      Melbourne City Council        NaN         NaN   \n",
       "...         ...                         ...        ...         ...   \n",
       "9736      387.0  Moonee Valley City Council  -37.72250   144.90550   \n",
       "19522    3957.0      Melbourne City Council  -37.79741   144.92614   \n",
       "21705     300.0     Whitehorse City Council  -37.81156   145.14057   \n",
       "23280       NaN    Stonnington City Council  -37.87394   145.05343   \n",
       "26812     730.0           Knox City Council  -37.85870   145.25850   \n",
       "\n",
       "                       Regionname  Propertycount  \n",
       "7575   South-Eastern Metropolitan         3692.0  \n",
       "24425       Southern Metropolitan        10412.0  \n",
       "678         Southern Metropolitan         3052.0  \n",
       "27325       Southern Metropolitan        14887.0  \n",
       "28075       Southern Metropolitan         8648.0  \n",
       "...                           ...            ...  \n",
       "9736         Western Metropolitan         3284.0  \n",
       "19522       Northern Metropolitan         5263.0  \n",
       "21705        Eastern Metropolitan         5713.0  \n",
       "23280       Southern Metropolitan         8801.0  \n",
       "26812        Eastern Metropolitan         9704.0  \n",
       "\n",
       "[25963 rows x 19 columns]"
      ]
     },
     "execution_count": 196,
     "metadata": {},
     "output_type": "execute_result"
    }
   ],
   "source": [
    "df = df.drop(['YearBuilt','BuildingArea'],axis = 1)\n",
    "df"
   ]
  },
  {
   "cell_type": "code",
   "execution_count": 197,
   "id": "2f247238",
   "metadata": {},
   "outputs": [
    {
     "data": {
      "text/plain": [
       "Distance         0.000039\n",
       "Postcode         0.000039\n",
       "Bedroom2         0.240612\n",
       "Bathroom         0.240766\n",
       "Car              0.254863\n",
       "Landsize         0.344221\n",
       "CouncilArea      0.000116\n",
       "Lattitude        0.233679\n",
       "Longtitude       0.233679\n",
       "Regionname       0.000116\n",
       "Propertycount    0.000116\n",
       "dtype: float64"
      ]
     },
     "execution_count": 197,
     "metadata": {},
     "output_type": "execute_result"
    }
   ],
   "source": [
    "ms = df.isnull().sum()\n",
    "ms[ms>0]/len(df)"
   ]
  },
  {
   "cell_type": "code",
   "execution_count": 198,
   "id": "7ad88f62",
   "metadata": {},
   "outputs": [
    {
     "name": "stderr",
     "output_type": "stream",
     "text": [
      "C:\\Users\\prasa\\Anaconda3\\lib\\site-packages\\seaborn\\distributions.py:2557: FutureWarning: `distplot` is a deprecated function and will be removed in a future version. Please adapt your code to use either `displot` (a figure-level function with similar flexibility) or `histplot` (an axes-level function for histograms).\n",
      "  warnings.warn(msg, FutureWarning)\n"
     ]
    },
    {
     "data": {
      "text/plain": [
       "<AxesSubplot:xlabel='Landsize', ylabel='Density'>"
      ]
     },
     "execution_count": 198,
     "metadata": {},
     "output_type": "execute_result"
    },
    {
     "data": {
      "image/png": "[encoded data removed]",
      "text/plain": [
       "<Figure size 432x288 with 1 Axes>"
      ]
     },
     "metadata": {
      "needs_background": "light"
     },
     "output_type": "display_data"
    }
   ],
   "source": [
    "sns.distplot(df['Landsize'].dropna())"
   ]
  },
  {
   "cell_type": "code",
   "execution_count": 199,
   "id": "6435ef7d",
   "metadata": {},
   "outputs": [
    {
     "data": {
      "text/plain": [
       "count     17026.000000\n",
       "mean        559.919182\n",
       "std        1977.411412\n",
       "min           0.000000\n",
       "25%         209.000000\n",
       "50%         492.000000\n",
       "75%         654.000000\n",
       "max      146699.000000\n",
       "Name: Landsize, dtype: float64"
      ]
     },
     "execution_count": 199,
     "metadata": {},
     "output_type": "execute_result"
    }
   ],
   "source": [
    "df['Landsize'].describe()"
   ]
  },
  {
   "cell_type": "markdown",
   "id": "e7e6e70d",
   "metadata": {},
   "source": [
    "Removing Outliers of Landsize as it has very big Max value!!"
   ]
  },
  {
   "cell_type": "code",
   "execution_count": 200,
   "id": "45f71a95",
   "metadata": {},
   "outputs": [
    {
     "data": {
      "text/plain": [
       "41.01106473788501"
      ]
     },
     "execution_count": 200,
     "metadata": {},
     "output_type": "execute_result"
    }
   ],
   "source": [
    "df['Landsize'].skew()"
   ]
  },
  {
   "cell_type": "code",
   "execution_count": 201,
   "id": "76c06fcf",
   "metadata": {},
   "outputs": [],
   "source": [
    "q1 = df.Landsize.quantile(0.25)\n",
    "q3 = df.Landsize.quantile(0.75)\n",
    "IQR = q3 - q1\n",
    "low  = q1-1.5*IQR\n",
    "high = q3+1.5*IQR\n",
    "\n",
    "df = df[~(df['Landsize']>high)]"
   ]
  },
  {
   "cell_type": "code",
   "execution_count": 202,
   "id": "49b7f54a",
   "metadata": {},
   "outputs": [
    {
     "name": "stderr",
     "output_type": "stream",
     "text": [
      "C:\\Users\\prasa\\Anaconda3\\lib\\site-packages\\seaborn\\distributions.py:2557: FutureWarning: `distplot` is a deprecated function and will be removed in a future version. Please adapt your code to use either `displot` (a figure-level function with similar flexibility) or `histplot` (an axes-level function for histograms).\n",
      "  warnings.warn(msg, FutureWarning)\n"
     ]
    },
    {
     "data": {
      "text/plain": [
       "<AxesSubplot:xlabel='Landsize', ylabel='Density'>"
      ]
     },
     "execution_count": 202,
     "metadata": {},
     "output_type": "execute_result"
    },
    {
     "data": {
      "image/png": "[encoded data removed]",
      "text/plain": [
       "<Figure size 432x288 with 1 Axes>"
      ]
     },
     "metadata": {
      "needs_background": "light"
     },
     "output_type": "display_data"
    }
   ],
   "source": [
    "sns.distplot(df['Landsize'])"
   ]
  },
  {
   "cell_type": "code",
   "execution_count": 203,
   "id": "aa45d942",
   "metadata": {},
   "outputs": [
    {
     "data": {
      "text/plain": [
       "count    16621.000000\n",
       "mean       438.288851\n",
       "std        275.453882\n",
       "min          0.000000\n",
       "25%        205.000000\n",
       "50%        475.000000\n",
       "75%        649.000000\n",
       "max       1321.000000\n",
       "Name: Landsize, dtype: float64"
      ]
     },
     "execution_count": 203,
     "metadata": {},
     "output_type": "execute_result"
    }
   ],
   "source": [
    "df['Landsize'].describe()"
   ]
  },
  {
   "cell_type": "code",
   "execution_count": 204,
   "id": "6cffcf8d",
   "metadata": {},
   "outputs": [],
   "source": [
    "#df['Landsize'].fillna(df.Landsize.median(),inplace = True)\n",
    "\n",
    "#filling with median made big change to that distribution of  the variable. Hence we will adopt a distribution based imputation.\n",
    "#(F fill or B fill)"
   ]
  },
  {
   "cell_type": "code",
   "execution_count": 205,
   "id": "0bde0090",
   "metadata": {},
   "outputs": [
    {
     "name": "stderr",
     "output_type": "stream",
     "text": [
      "<ipython-input-205-78b5279e60df>:1: SettingWithCopyWarning: \n",
      "A value is trying to be set on a copy of a slice from a DataFrame.\n",
      "Try using .loc[row_indexer,col_indexer] = value instead\n",
      "\n",
      "See the caveats in the documentation: https://pandas.pydata.org/pandas-docs/stable/user_guide/indexing.html#returning-a-view-versus-a-copy\n",
      "  df['Landsize'] = df['Landsize'].fillna(method = 'ffill')\n"
     ]
    }
   ],
   "source": [
    "df['Landsize'] = df['Landsize'].fillna(method = 'ffill')"
   ]
  },
  {
   "cell_type": "code",
   "execution_count": 206,
   "id": "29568997",
   "metadata": {},
   "outputs": [
    {
     "name": "stderr",
     "output_type": "stream",
     "text": [
      "C:\\Users\\prasa\\Anaconda3\\lib\\site-packages\\seaborn\\distributions.py:2557: FutureWarning: `distplot` is a deprecated function and will be removed in a future version. Please adapt your code to use either `displot` (a figure-level function with similar flexibility) or `histplot` (an axes-level function for histograms).\n",
      "  warnings.warn(msg, FutureWarning)\n"
     ]
    },
    {
     "data": {
      "text/plain": [
       "<AxesSubplot:xlabel='Landsize', ylabel='Density'>"
      ]
     },
     "execution_count": 206,
     "metadata": {},
     "output_type": "execute_result"
    },
    {
     "data": {
      "image/png": "[encoded data removed]",
      "text/plain": [
       "<Figure size 432x288 with 1 Axes>"
      ]
     },
     "metadata": {
      "needs_background": "light"
     },
     "output_type": "display_data"
    }
   ],
   "source": [
    "sns.distplot(df['Landsize'])"
   ]
  },
  {
   "cell_type": "code",
   "execution_count": 207,
   "id": "90517db8",
   "metadata": {},
   "outputs": [
    {
     "data": {
      "text/plain": [
       "count    25558.000000\n",
       "mean       437.785116\n",
       "std        276.246251\n",
       "min          0.000000\n",
       "25%        204.000000\n",
       "50%        473.000000\n",
       "75%        649.000000\n",
       "max       1321.000000\n",
       "Name: Landsize, dtype: float64"
      ]
     },
     "execution_count": 207,
     "metadata": {},
     "output_type": "execute_result"
    }
   ],
   "source": [
    "df.Landsize.describe()"
   ]
  },
  {
   "cell_type": "code",
   "execution_count": 208,
   "id": "d0fdb240",
   "metadata": {},
   "outputs": [],
   "source": [
    "num_cols = list(df.select_dtypes(exclude = ['object']).columns) ## extract only numeric cols"
   ]
  },
  {
   "cell_type": "code",
   "execution_count": 209,
   "id": "936084ec",
   "metadata": {},
   "outputs": [
    {
     "data": {
      "text/plain": [
       "['Rooms',\n",
       " 'Price',\n",
       " 'Distance',\n",
       " 'Postcode',\n",
       " 'Bedroom2',\n",
       " 'Bathroom',\n",
       " 'Car',\n",
       " 'Landsize',\n",
       " 'Lattitude',\n",
       " 'Longtitude',\n",
       " 'Propertycount']"
      ]
     },
     "execution_count": 209,
     "metadata": {},
     "output_type": "execute_result"
    }
   ],
   "source": [
    "num_cols"
   ]
  },
  {
   "cell_type": "code",
   "execution_count": 210,
   "id": "54e26a6c",
   "metadata": {},
   "outputs": [
    {
     "name": "stderr",
     "output_type": "stream",
     "text": [
      "C:\\Users\\prasa\\Anaconda3\\lib\\site-packages\\pandas\\core\\frame.py:3191: SettingWithCopyWarning: \n",
      "A value is trying to be set on a copy of a slice from a DataFrame.\n",
      "Try using .loc[row_indexer,col_indexer] = value instead\n",
      "\n",
      "See the caveats in the documentation: https://pandas.pydata.org/pandas-docs/stable/user_guide/indexing.html#returning-a-view-versus-a-copy\n",
      "  self[k1] = value[k2]\n"
     ]
    }
   ],
   "source": [
    "df[num_cols] = df[num_cols].fillna(method='ffill')"
   ]
  },
  {
   "cell_type": "code",
   "execution_count": 211,
   "id": "b1ae732f",
   "metadata": {},
   "outputs": [],
   "source": [
    "cat_cols = list(df.select_dtypes(include = ['object']).columns)## extract only categorical cols"
   ]
  },
  {
   "cell_type": "code",
   "execution_count": 212,
   "id": "77f5f7cf",
   "metadata": {},
   "outputs": [
    {
     "data": {
      "text/plain": [
       "0    Reservoir\n",
       "dtype: object"
      ]
     },
     "execution_count": 212,
     "metadata": {},
     "output_type": "execute_result"
    }
   ],
   "source": [
    "df['Suburb'].mode()"
   ]
  },
  {
   "cell_type": "code",
   "execution_count": 213,
   "id": "e3a207f6",
   "metadata": {},
   "outputs": [],
   "source": [
    "#df[cat_cols] = df[cat_cols].fillna(df[cat_cols].mode)\n",
    "df[cat_cols] = df[cat_cols].fillna('NA')"
   ]
  },
  {
   "cell_type": "code",
   "execution_count": 214,
   "id": "da45685d",
   "metadata": {},
   "outputs": [
    {
     "data": {
      "text/plain": [
       "Suburb           0\n",
       "Address          0\n",
       "Rooms            0\n",
       "Type             0\n",
       "Price            0\n",
       "Method           0\n",
       "SellerG          0\n",
       "Date             0\n",
       "Distance         0\n",
       "Postcode         0\n",
       "Bedroom2         0\n",
       "Bathroom         0\n",
       "Car              0\n",
       "Landsize         0\n",
       "CouncilArea      0\n",
       "Lattitude        0\n",
       "Longtitude       0\n",
       "Regionname       0\n",
       "Propertycount    0\n",
       "dtype: int64"
      ]
     },
     "execution_count": 214,
     "metadata": {},
     "output_type": "execute_result"
    }
   ],
   "source": [
    "df.isnull().sum()"
   ]
  },
  {
   "cell_type": "code",
   "execution_count": 215,
   "id": "0d4b9b75",
   "metadata": {},
   "outputs": [
    {
     "data": {
      "text/plain": [
       "h    17103\n",
       "u     5639\n",
       "t     2816\n",
       "Name: Type, dtype: int64"
      ]
     },
     "execution_count": 215,
     "metadata": {},
     "output_type": "execute_result"
    }
   ],
   "source": [
    "df.Type.value_counts()"
   ]
  },
  {
   "cell_type": "code",
   "execution_count": 216,
   "id": "219aba5c",
   "metadata": {},
   "outputs": [
    {
     "data": {
      "text/plain": [
       "<AxesSubplot:xlabel='Type'>"
      ]
     },
     "execution_count": 216,
     "metadata": {},
     "output_type": "execute_result"
    },
    {
     "data": {
      "image/png": "[encoded data removed]",
      "text/plain": [
       "<Figure size 432x288 with 1 Axes>"
      ]
     },
     "metadata": {
      "needs_background": "light"
     },
     "output_type": "display_data"
    }
   ],
   "source": [
    "df.groupby('Type')['Price'].agg(['mean']).plot.bar()"
   ]
  },
  {
   "cell_type": "code",
   "execution_count": 217,
   "id": "967e4c84",
   "metadata": {},
   "outputs": [
    {
     "data": {
      "image/png": "[encoded data removed]",
      "text/plain": [
       "<Figure size 432x288 with 1 Axes>"
      ]
     },
     "metadata": {
      "needs_background": "light"
     },
     "output_type": "display_data"
    }
   ],
   "source": [
    "sns.boxplot(x = df.Type,y=df.Price)\n",
    "plt.show()"
   ]
  },
  {
   "cell_type": "code",
   "execution_count": 218,
   "id": "41a0ba85",
   "metadata": {},
   "outputs": [
    {
     "name": "stderr",
     "output_type": "stream",
     "text": [
      "<ipython-input-218-7d2140b9069e>:15: SettingWithCopyWarning: \n",
      "A value is trying to be set on a copy of a slice from a DataFrame.\n",
      "Try using .loc[row_indexer,col_indexer] = value instead\n",
      "\n",
      "See the caveats in the documentation: https://pandas.pydata.org/pandas-docs/stable/user_guide/indexing.html#returning-a-view-versus-a-copy\n",
      "  df['Price_cat'] = df['Price'].apply(Price_cat)\n"
     ]
    }
   ],
   "source": [
    "q1 = df['Price'].quantile(0.25)\n",
    "q2 = df['Price'].quantile(0.50)\n",
    "q3 = df['Price'].quantile(0.75)\n",
    "\n",
    "def Price_cat(pr):\n",
    "    if (pr<q1):\n",
    "        return 1\n",
    "    elif q1 <= pr < q2:\n",
    "        return 2\n",
    "    elif q2 <= pr < q3:\n",
    "        return 3\n",
    "    else:\n",
    "        return 4\n",
    "    \n",
    "df['Price_cat'] = df['Price'].apply(Price_cat)\n",
    "        "
   ]
  },
  {
   "cell_type": "code",
   "execution_count": 219,
   "id": "155ba35c",
   "metadata": {},
   "outputs": [
    {
     "data": {
      "text/html": [
       "<div>\n",
       "<style scoped>\n",
       "    .dataframe tbody tr th:only-of-type {\n",
       "        vertical-align: middle;\n",
       "    }\n",
       "\n",
       "    .dataframe tbody tr th {\n",
       "        vertical-align: top;\n",
       "    }\n",
       "\n",
       "    .dataframe thead th {\n",
       "        text-align: right;\n",
       "    }\n",
       "</style>\n",
       "<table border=\"1\" class=\"dataframe\">\n",
       "  <thead>\n",
       "    <tr style=\"text-align: right;\">\n",
       "      <th></th>\n",
       "      <th>min</th>\n",
       "      <th>max</th>\n",
       "    </tr>\n",
       "    <tr>\n",
       "      <th>Price_cat</th>\n",
       "      <th></th>\n",
       "      <th></th>\n",
       "    </tr>\n",
       "  </thead>\n",
       "  <tbody>\n",
       "    <tr>\n",
       "      <th>1</th>\n",
       "      <td>85000.0</td>\n",
       "      <td>628200.0</td>\n",
       "    </tr>\n",
       "    <tr>\n",
       "      <th>2</th>\n",
       "      <td>629000.0</td>\n",
       "      <td>849500.0</td>\n",
       "    </tr>\n",
       "    <tr>\n",
       "      <th>3</th>\n",
       "      <td>850000.0</td>\n",
       "      <td>1218500.0</td>\n",
       "    </tr>\n",
       "    <tr>\n",
       "      <th>4</th>\n",
       "      <td>1220000.0</td>\n",
       "      <td>2280000.0</td>\n",
       "    </tr>\n",
       "  </tbody>\n",
       "</table>\n",
       "</div>"
      ],
      "text/plain": [
       "                 min        max\n",
       "Price_cat                      \n",
       "1            85000.0   628200.0\n",
       "2           629000.0   849500.0\n",
       "3           850000.0  1218500.0\n",
       "4          1220000.0  2280000.0"
      ]
     },
     "execution_count": 219,
     "metadata": {},
     "output_type": "execute_result"
    }
   ],
   "source": [
    "df.groupby('Price_cat')['Price'].agg(['min','max'])"
   ]
  },
  {
   "cell_type": "code",
   "execution_count": 220,
   "id": "9d6d7bf4",
   "metadata": {},
   "outputs": [
    {
     "data": {
      "text/plain": [
       "<AxesSubplot:xlabel='Price_cat'>"
      ]
     },
     "execution_count": 220,
     "metadata": {},
     "output_type": "execute_result"
    },
    {
     "data": {
      "image/png": "[encoded data removed]",
      "text/plain": [
       "<Figure size 432x288 with 1 Axes>"
      ]
     },
     "metadata": {
      "needs_background": "light"
     },
     "output_type": "display_data"
    }
   ],
   "source": [
    "ct = pd.crosstab(df['Price_cat'],df['Type'],normalize = 0)#calculating proportion\n",
    "ct.plot.bar(stacked = True)"
   ]
  },
  {
   "cell_type": "markdown",
   "id": "478d0424",
   "metadata": {},
   "source": [
    "### Linear Regression Model"
   ]
  },
  {
   "cell_type": "code",
   "execution_count": 221,
   "id": "2c39f91e",
   "metadata": {},
   "outputs": [
    {
     "name": "stdout",
     "output_type": "stream",
     "text": [
      "Suburb 339\n",
      "Address 25120\n",
      "Type 3\n",
      "Method 5\n",
      "SellerG 346\n",
      "Date 78\n",
      "CouncilArea 34\n",
      "Regionname 9\n"
     ]
    }
   ],
   "source": [
    "for col in cat_cols:\n",
    "    print(col, df[col].nunique())"
   ]
  },
  {
   "cell_type": "markdown",
   "id": "cea9f11b",
   "metadata": {},
   "source": [
    "In the categorical column, suburb, date, seller have so many categories. So we can drop those"
   ]
  },
  {
   "cell_type": "code",
   "execution_count": 222,
   "id": "e9ef7c79",
   "metadata": {},
   "outputs": [],
   "source": [
    "df = df.drop(['Date','Suburb','SellerG','Address'],axis = 1)"
   ]
  },
  {
   "cell_type": "code",
   "execution_count": 223,
   "id": "11c9579a",
   "metadata": {},
   "outputs": [],
   "source": [
    "cat_cols = list(df.select_dtypes(include = ['object']).columns)## extract only categorical cols"
   ]
  },
  {
   "cell_type": "code",
   "execution_count": 224,
   "id": "7e00e0da",
   "metadata": {},
   "outputs": [
    {
     "data": {
      "text/plain": [
       "['Type', 'Method', 'CouncilArea', 'Regionname']"
      ]
     },
     "execution_count": 224,
     "metadata": {},
     "output_type": "execute_result"
    }
   ],
   "source": [
    "cat_cols"
   ]
  },
  {
   "cell_type": "code",
   "execution_count": 225,
   "id": "ef70224a",
   "metadata": {},
   "outputs": [],
   "source": [
    "df = pd.get_dummies(df, columns = cat_cols, drop_first = True) #drop_first is for dropping the first alphabet values in columns"
   ]
  },
  {
   "cell_type": "code",
   "execution_count": 226,
   "id": "707e4dcd",
   "metadata": {},
   "outputs": [],
   "source": [
    "df = df.drop(['Price_cat','Postcode'], axis = 1)"
   ]
  },
  {
   "cell_type": "code",
   "execution_count": 227,
   "id": "9b0eecec",
   "metadata": {},
   "outputs": [
    {
     "name": "stdout",
     "output_type": "stream",
     "text": [
      "<class 'pandas.core.frame.DataFrame'>\n",
      "Int64Index: 25558 entries, 7575 to 26812\n",
      "Data columns (total 57 columns):\n",
      " #   Column                                      Non-Null Count  Dtype  \n",
      "---  ------                                      --------------  -----  \n",
      " 0   Rooms                                       25558 non-null  int64  \n",
      " 1   Price                                       25558 non-null  float64\n",
      " 2   Distance                                    25558 non-null  float64\n",
      " 3   Bedroom2                                    25558 non-null  float64\n",
      " 4   Bathroom                                    25558 non-null  float64\n",
      " 5   Car                                         25558 non-null  float64\n",
      " 6   Landsize                                    25558 non-null  float64\n",
      " 7   Lattitude                                   25558 non-null  float64\n",
      " 8   Longtitude                                  25558 non-null  float64\n",
      " 9   Propertycount                               25558 non-null  float64\n",
      " 10  Type_t                                      25558 non-null  uint8  \n",
      " 11  Type_u                                      25558 non-null  uint8  \n",
      " 12  Method_S                                    25558 non-null  uint8  \n",
      " 13  Method_SA                                   25558 non-null  uint8  \n",
      " 14  Method_SP                                   25558 non-null  uint8  \n",
      " 15  Method_VB                                   25558 non-null  uint8  \n",
      " 16  CouncilArea_Bayside City Council            25558 non-null  uint8  \n",
      " 17  CouncilArea_Boroondara City Council         25558 non-null  uint8  \n",
      " 18  CouncilArea_Brimbank City Council           25558 non-null  uint8  \n",
      " 19  CouncilArea_Cardinia Shire Council          25558 non-null  uint8  \n",
      " 20  CouncilArea_Casey City Council              25558 non-null  uint8  \n",
      " 21  CouncilArea_Darebin City Council            25558 non-null  uint8  \n",
      " 22  CouncilArea_Frankston City Council          25558 non-null  uint8  \n",
      " 23  CouncilArea_Glen Eira City Council          25558 non-null  uint8  \n",
      " 24  CouncilArea_Greater Dandenong City Council  25558 non-null  uint8  \n",
      " 25  CouncilArea_Hobsons Bay City Council        25558 non-null  uint8  \n",
      " 26  CouncilArea_Hume City Council               25558 non-null  uint8  \n",
      " 27  CouncilArea_Kingston City Council           25558 non-null  uint8  \n",
      " 28  CouncilArea_Knox City Council               25558 non-null  uint8  \n",
      " 29  CouncilArea_Macedon Ranges Shire Council    25558 non-null  uint8  \n",
      " 30  CouncilArea_Manningham City Council         25558 non-null  uint8  \n",
      " 31  CouncilArea_Maribyrnong City Council        25558 non-null  uint8  \n",
      " 32  CouncilArea_Maroondah City Council          25558 non-null  uint8  \n",
      " 33  CouncilArea_Melbourne City Council          25558 non-null  uint8  \n",
      " 34  CouncilArea_Melton City Council             25558 non-null  uint8  \n",
      " 35  CouncilArea_Mitchell Shire Council          25558 non-null  uint8  \n",
      " 36  CouncilArea_Monash City Council             25558 non-null  uint8  \n",
      " 37  CouncilArea_Moonee Valley City Council      25558 non-null  uint8  \n",
      " 38  CouncilArea_Moorabool Shire Council         25558 non-null  uint8  \n",
      " 39  CouncilArea_Moreland City Council           25558 non-null  uint8  \n",
      " 40  CouncilArea_NA                              25558 non-null  uint8  \n",
      " 41  CouncilArea_Nillumbik Shire Council         25558 non-null  uint8  \n",
      " 42  CouncilArea_Port Phillip City Council       25558 non-null  uint8  \n",
      " 43  CouncilArea_Stonnington City Council        25558 non-null  uint8  \n",
      " 44  CouncilArea_Whitehorse City Council         25558 non-null  uint8  \n",
      " 45  CouncilArea_Whittlesea City Council         25558 non-null  uint8  \n",
      " 46  CouncilArea_Wyndham City Council            25558 non-null  uint8  \n",
      " 47  CouncilArea_Yarra City Council              25558 non-null  uint8  \n",
      " 48  CouncilArea_Yarra Ranges Shire Council      25558 non-null  uint8  \n",
      " 49  Regionname_Eastern Victoria                 25558 non-null  uint8  \n",
      " 50  Regionname_NA                               25558 non-null  uint8  \n",
      " 51  Regionname_Northern Metropolitan            25558 non-null  uint8  \n",
      " 52  Regionname_Northern Victoria                25558 non-null  uint8  \n",
      " 53  Regionname_South-Eastern Metropolitan       25558 non-null  uint8  \n",
      " 54  Regionname_Southern Metropolitan            25558 non-null  uint8  \n",
      " 55  Regionname_Western Metropolitan             25558 non-null  uint8  \n",
      " 56  Regionname_Western Victoria                 25558 non-null  uint8  \n",
      "dtypes: float64(9), int64(1), uint8(47)\n",
      "memory usage: 4.3 MB\n"
     ]
    }
   ],
   "source": [
    "df.info()"
   ]
  },
  {
   "cell_type": "code",
   "execution_count": 232,
   "id": "7efe6d29",
   "metadata": {},
   "outputs": [],
   "source": [
    "y = df.Price\n",
    "X = df.drop('Price',axis = 1)"
   ]
  },
  {
   "cell_type": "markdown",
   "id": "cfcacc1f",
   "metadata": {},
   "source": [
    "### First build model based on statistics"
   ]
  },
  {
   "cell_type": "code",
   "execution_count": 233,
   "id": "712b3b8a",
   "metadata": {},
   "outputs": [],
   "source": [
    "Xc = sm.add_constant(X)\n",
    "X_train, X_test, y_train, y_test = train_test_split(Xc, y, test_size=0.3, random_state=42)"
   ]
  },
  {
   "cell_type": "code",
   "execution_count": 234,
   "id": "8fdbe5eb",
   "metadata": {},
   "outputs": [
    {
     "name": "stdout",
     "output_type": "stream",
     "text": [
      "                            OLS Regression Results                            \n",
      "==============================================================================\n",
      "Dep. Variable:                  Price   R-squared:                       0.669\n",
      "Model:                            OLS   Adj. R-squared:                  0.668\n",
      "Method:                 Least Squares   F-statistic:                     654.0\n",
      "Date:                Sun, 25 Jul 2021   Prob (F-statistic):               0.00\n",
      "Time:                        14:06:46   Log-Likelihood:            -2.4772e+05\n",
      "No. Observations:               17890   AIC:                         4.956e+05\n",
      "Df Residuals:                   17834   BIC:                         4.960e+05\n",
      "Df Model:                          55                                         \n",
      "Covariance Type:            nonrobust                                         \n",
      "==============================================================================================================\n",
      "                                                 coef    std err          t      P>|t|      [0.025      0.975]\n",
      "--------------------------------------------------------------------------------------------------------------\n",
      "const                                      -2.347e+06    3.5e+06     -0.672      0.502    -9.2e+06     4.5e+06\n",
      "Rooms                                       1.875e+05   3481.364     53.860      0.000    1.81e+05    1.94e+05\n",
      "Distance                                   -2.871e+04    746.382    -38.472      0.000   -3.02e+04   -2.73e+04\n",
      "Bedroom2                                   -3.861e+04   3600.905    -10.722      0.000   -4.57e+04   -3.16e+04\n",
      "Bathroom                                    5.696e+04   3637.884     15.658      0.000    4.98e+04    6.41e+04\n",
      "Car                                         1.023e+04   2139.954      4.781      0.000    6035.587    1.44e+04\n",
      "Landsize                                     111.9417      8.100     13.820      0.000      96.064     127.819\n",
      "Lattitude                                  -2.049e+05   3.29e+04     -6.225      0.000   -2.69e+05    -1.4e+05\n",
      "Longtitude                                 -3.219e+04   2.54e+04     -1.267      0.205    -8.2e+04    1.76e+04\n",
      "Propertycount                                 -0.9268      0.514     -1.803      0.071      -1.934       0.081\n",
      "Type_t                                     -1.978e+05   6375.226    -31.022      0.000    -2.1e+05   -1.85e+05\n",
      "Type_u                                     -4.183e+05   5818.931    -71.881      0.000    -4.3e+05   -4.07e+05\n",
      "Method_S                                    5.631e+04   6013.211      9.364      0.000    4.45e+04    6.81e+04\n",
      "Method_SA                                   3743.3692   2.31e+04      0.162      0.872   -4.16e+04    4.91e+04\n",
      "Method_SP                                   2.611e+04   7593.474      3.439      0.001    1.12e+04     4.1e+04\n",
      "Method_VB                                   1878.5174   8338.632      0.225      0.822   -1.45e+04    1.82e+04\n",
      "CouncilArea_Bayside City Council            5.558e+05   1.84e+04     30.226      0.000     5.2e+05    5.92e+05\n",
      "CouncilArea_Boroondara City Council          4.57e+05   1.65e+04     27.673      0.000    4.25e+05    4.89e+05\n",
      "CouncilArea_Brimbank City Council          -2.261e+05   2.59e+04     -8.729      0.000   -2.77e+05   -1.75e+05\n",
      "CouncilArea_Cardinia Shire Council          3.006e+05   7.78e+04      3.862      0.000    1.48e+05    4.53e+05\n",
      "CouncilArea_Casey City Council              1.709e+05   3.87e+04      4.422      0.000    9.51e+04    2.47e+05\n",
      "CouncilArea_Darebin City Council            1.181e+05   1.53e+04      7.747      0.000    8.83e+04    1.48e+05\n",
      "CouncilArea_Frankston City Council          3.927e+05   3.54e+04     11.107      0.000    3.23e+05    4.62e+05\n",
      "CouncilArea_Glen Eira City Council          3.207e+05   1.73e+04     18.490      0.000    2.87e+05    3.55e+05\n",
      "CouncilArea_Greater Dandenong City Council  1.591e+05   3.06e+04      5.200      0.000    9.91e+04    2.19e+05\n",
      "CouncilArea_Hobsons Bay City Council       -1.855e+04   2.78e+04     -0.666      0.505   -7.31e+04     3.6e+04\n",
      "CouncilArea_Hume City Council              -8.629e+04   1.66e+04     -5.204      0.000   -1.19e+05   -5.38e+04\n",
      "CouncilArea_Kingston City Council           3.156e+05   2.36e+04     13.393      0.000    2.69e+05    3.62e+05\n",
      "CouncilArea_Knox City Council               3.816e+04   2.18e+04      1.754      0.079   -4490.016    8.08e+04\n",
      "CouncilArea_Macedon Ranges Shire Council    4.468e+05   8.55e+04      5.227      0.000    2.79e+05    6.14e+05\n",
      "CouncilArea_Manningham City Council         1.824e+05   1.42e+04     12.832      0.000    1.55e+05     2.1e+05\n",
      "CouncilArea_Maribyrnong City Council       -1.113e+05   2.74e+04     -4.068      0.000   -1.65e+05   -5.77e+04\n",
      "CouncilArea_Maroondah City Council          1.286e+05   1.99e+04      6.453      0.000    8.95e+04    1.68e+05\n",
      "CouncilArea_Melbourne City Council          2.231e+05   1.65e+04     13.560      0.000    1.91e+05    2.55e+05\n",
      "CouncilArea_Melton City Council            -2.487e+05   3.57e+04     -6.956      0.000   -3.19e+05   -1.79e+05\n",
      "CouncilArea_Mitchell Shire Council           2.55e+05      1e+05      2.538      0.011    5.81e+04    4.52e+05\n",
      "CouncilArea_Monash City Council              2.62e+05   1.56e+04     16.780      0.000    2.31e+05    2.93e+05\n",
      "CouncilArea_Moonee Valley City Council      7.131e+04   2.66e+04      2.677      0.007    1.91e+04    1.24e+05\n",
      "CouncilArea_Moorabool Shire Council         2.273e+04   1.21e+05      0.187      0.852   -2.15e+05    2.61e+05\n",
      "CouncilArea_Moreland City Council           6.115e+04   1.51e+04      4.059      0.000    3.16e+04    9.07e+04\n",
      "CouncilArea_NA                              1.719e+04   8.87e+04      0.194      0.846   -1.57e+05    1.91e+05\n",
      "CouncilArea_Nillumbik Shire Council        -8.725e+04   6.16e+04     -1.416      0.157   -2.08e+05    3.35e+04\n",
      "CouncilArea_Port Phillip City Council       2.814e+05   1.92e+04     14.636      0.000    2.44e+05    3.19e+05\n",
      "CouncilArea_Stonnington City Council        3.782e+05   1.94e+04     19.509      0.000     3.4e+05    4.16e+05\n",
      "CouncilArea_Whitehorse City Council         1.884e+05   1.74e+04     10.798      0.000    1.54e+05    2.23e+05\n",
      "CouncilArea_Whittlesea City Council         6506.0747   1.76e+04      0.369      0.712    -2.8e+04     4.1e+04\n",
      "CouncilArea_Wyndham City Council           -3.088e+05   2.91e+04    -10.620      0.000   -3.66e+05   -2.52e+05\n",
      "CouncilArea_Yarra City Council              2.364e+05   1.82e+04     13.003      0.000    2.01e+05    2.72e+05\n",
      "CouncilArea_Yarra Ranges Shire Council      6.354e+04   5.82e+04      1.091      0.275   -5.06e+04    1.78e+05\n",
      "Regionname_Eastern Victoria                 1.589e+04   4.65e+04      0.342      0.733   -7.53e+04    1.07e+05\n",
      "Regionname_NA                               1.719e+04   8.87e+04      0.194      0.846   -1.57e+05    1.91e+05\n",
      "Regionname_Northern Metropolitan           -1.824e+05    1.4e+04    -13.045      0.000    -2.1e+05   -1.55e+05\n",
      "Regionname_Northern Victoria                 8.11e+04   5.73e+04      1.415      0.157   -3.12e+04    1.93e+05\n",
      "Regionname_South-Eastern Metropolitan      -9.076e+04   2.11e+04     -4.304      0.000   -1.32e+05   -4.94e+04\n",
      "Regionname_Southern Metropolitan           -1.013e+05   1.44e+04     -7.018      0.000    -1.3e+05    -7.3e+04\n",
      "Regionname_Western Metropolitan            -7.291e+04   2.56e+04     -2.850      0.004   -1.23e+05   -2.28e+04\n",
      "Regionname_Western Victoria                 1.062e+05   5.04e+04      2.107      0.035    7421.816    2.05e+05\n",
      "==============================================================================\n",
      "Omnibus:                     1705.517   Durbin-Watson:                   2.014\n",
      "Prob(Omnibus):                  0.000   Jarque-Bera (JB):             3028.826\n",
      "Skew:                           0.668   Prob(JB):                         0.00\n",
      "Kurtosis:                       4.510   Cond. No.                     1.17e+16\n",
      "==============================================================================\n",
      "\n",
      "Notes:\n",
      "[1] Standard Errors assume that the covariance matrix of the errors is correctly specified.\n",
      "[2] The smallest eigenvalue is 1.02e-20. This might indicate that there are\n",
      "strong multicollinearity problems or that the design matrix is singular.\n"
     ]
    }
   ],
   "source": [
    "lin_reg = sm.OLS(y_train, X_train)\n",
    "result = lin_reg.fit()\n",
    "print(result.summary())"
   ]
  },
  {
   "cell_type": "markdown",
   "id": "e20e5803",
   "metadata": {},
   "source": [
    "Here we can see the significance from overall value"
   ]
  },
  {
   "cell_type": "code",
   "execution_count": 235,
   "id": "0ebe9dc2",
   "metadata": {},
   "outputs": [
    {
     "name": "stderr",
     "output_type": "stream",
     "text": [
      "C:\\Users\\prasa\\Anaconda3\\lib\\site-packages\\seaborn\\distributions.py:2557: FutureWarning: `distplot` is a deprecated function and will be removed in a future version. Please adapt your code to use either `displot` (a figure-level function with similar flexibility) or `histplot` (an axes-level function for histograms).\n",
      "  warnings.warn(msg, FutureWarning)\n"
     ]
    },
    {
     "data": {
      "image/png": "[encoded data removed]",
      "text/plain": [
       "<Figure size 432x288 with 1 Axes>"
      ]
     },
     "metadata": {
      "needs_background": "light"
     },
     "output_type": "display_data"
    }
   ],
   "source": [
    "sns.distplot(result.resid)\n",
    "plt.show()"
   ]
  },
  {
   "cell_type": "markdown",
   "id": "6bd97add",
   "metadata": {},
   "source": [
    "residuals are well distributed"
   ]
  },
  {
   "cell_type": "markdown",
   "id": "f352dd23",
   "metadata": {},
   "source": [
    "#### Multicollinearity"
   ]
  },
  {
   "cell_type": "code",
   "execution_count": 236,
   "id": "cfd3ff69",
   "metadata": {},
   "outputs": [
    {
     "name": "stderr",
     "output_type": "stream",
     "text": [
      "C:\\Users\\prasa\\Anaconda3\\lib\\site-packages\\statsmodels\\stats\\outliers_influence.py:193: RuntimeWarning: divide by zero encountered in double_scalars\n",
      "  vif = 1. / (1. - r_squared_i)\n"
     ]
    },
    {
     "data": {
      "text/html": [
       "<div>\n",
       "<style scoped>\n",
       "    .dataframe tbody tr th:only-of-type {\n",
       "        vertical-align: middle;\n",
       "    }\n",
       "\n",
       "    .dataframe tbody tr th {\n",
       "        vertical-align: top;\n",
       "    }\n",
       "\n",
       "    .dataframe thead th {\n",
       "        text-align: right;\n",
       "    }\n",
       "</style>\n",
       "<table border=\"1\" class=\"dataframe\">\n",
       "  <thead>\n",
       "    <tr style=\"text-align: right;\">\n",
       "      <th></th>\n",
       "      <th>VIF</th>\n",
       "    </tr>\n",
       "  </thead>\n",
       "  <tbody>\n",
       "    <tr>\n",
       "      <th>const</th>\n",
       "      <td>3.495296e+06</td>\n",
       "    </tr>\n",
       "    <tr>\n",
       "      <th>Rooms</th>\n",
       "      <td>2.898517e+00</td>\n",
       "    </tr>\n",
       "    <tr>\n",
       "      <th>Distance</th>\n",
       "      <td>7.293483e+00</td>\n",
       "    </tr>\n",
       "    <tr>\n",
       "      <th>Bedroom2</th>\n",
       "      <td>3.033049e+00</td>\n",
       "    </tr>\n",
       "    <tr>\n",
       "      <th>Bathroom</th>\n",
       "      <td>1.628433e+00</td>\n",
       "    </tr>\n",
       "    <tr>\n",
       "      <th>Car</th>\n",
       "      <td>1.255085e+00</td>\n",
       "    </tr>\n",
       "    <tr>\n",
       "      <th>Landsize</th>\n",
       "      <td>1.431170e+00</td>\n",
       "    </tr>\n",
       "    <tr>\n",
       "      <th>Lattitude</th>\n",
       "      <td>2.604415e+00</td>\n",
       "    </tr>\n",
       "    <tr>\n",
       "      <th>Longtitude</th>\n",
       "      <td>2.763425e+00</td>\n",
       "    </tr>\n",
       "    <tr>\n",
       "      <th>Propertycount</th>\n",
       "      <td>1.557321e+00</td>\n",
       "    </tr>\n",
       "    <tr>\n",
       "      <th>Type_t</th>\n",
       "      <td>1.147541e+00</td>\n",
       "    </tr>\n",
       "    <tr>\n",
       "      <th>Type_u</th>\n",
       "      <td>1.666625e+00</td>\n",
       "    </tr>\n",
       "    <tr>\n",
       "      <th>Method_S</th>\n",
       "      <td>2.351285e+00</td>\n",
       "    </tr>\n",
       "    <tr>\n",
       "      <th>Method_SA</th>\n",
       "      <td>1.063347e+00</td>\n",
       "    </tr>\n",
       "    <tr>\n",
       "      <th>Method_SP</th>\n",
       "      <td>1.930321e+00</td>\n",
       "    </tr>\n",
       "    <tr>\n",
       "      <th>Method_VB</th>\n",
       "      <td>1.633709e+00</td>\n",
       "    </tr>\n",
       "    <tr>\n",
       "      <th>CouncilArea_Bayside City Council</th>\n",
       "      <td>4.028584e+00</td>\n",
       "    </tr>\n",
       "    <tr>\n",
       "      <th>CouncilArea_Boroondara City Council</th>\n",
       "      <td>5.536809e+00</td>\n",
       "    </tr>\n",
       "    <tr>\n",
       "      <th>CouncilArea_Brimbank City Council</th>\n",
       "      <td>9.610406e+00</td>\n",
       "    </tr>\n",
       "    <tr>\n",
       "      <th>CouncilArea_Cardinia Shire Council</th>\n",
       "      <td>1.741928e+00</td>\n",
       "    </tr>\n",
       "    <tr>\n",
       "      <th>CouncilArea_Casey City Council</th>\n",
       "      <td>2.115745e+00</td>\n",
       "    </tr>\n",
       "    <tr>\n",
       "      <th>CouncilArea_Darebin City Council</th>\n",
       "      <td>5.443732e+00</td>\n",
       "    </tr>\n",
       "    <tr>\n",
       "      <th>CouncilArea_Frankston City Council</th>\n",
       "      <td>2.953638e+00</td>\n",
       "    </tr>\n",
       "    <tr>\n",
       "      <th>CouncilArea_Glen Eira City Council</th>\n",
       "      <td>5.042773e+00</td>\n",
       "    </tr>\n",
       "    <tr>\n",
       "      <th>CouncilArea_Greater Dandenong City Council</th>\n",
       "      <td>2.285843e+00</td>\n",
       "    </tr>\n",
       "    <tr>\n",
       "      <th>CouncilArea_Hobsons Bay City Council</th>\n",
       "      <td>6.398726e+00</td>\n",
       "    </tr>\n",
       "    <tr>\n",
       "      <th>CouncilArea_Hume City Council</th>\n",
       "      <td>3.035048e+00</td>\n",
       "    </tr>\n",
       "    <tr>\n",
       "      <th>CouncilArea_Kingston City Council</th>\n",
       "      <td>4.391914e+00</td>\n",
       "    </tr>\n",
       "    <tr>\n",
       "      <th>CouncilArea_Knox City Council</th>\n",
       "      <td>1.453136e+00</td>\n",
       "    </tr>\n",
       "    <tr>\n",
       "      <th>CouncilArea_Macedon Ranges Shire Council</th>\n",
       "      <td>1.751662e+00</td>\n",
       "    </tr>\n",
       "    <tr>\n",
       "      <th>CouncilArea_Manningham City Council</th>\n",
       "      <td>1.765318e+00</td>\n",
       "    </tr>\n",
       "    <tr>\n",
       "      <th>CouncilArea_Maribyrnong City Council</th>\n",
       "      <td>9.797813e+00</td>\n",
       "    </tr>\n",
       "    <tr>\n",
       "      <th>CouncilArea_Maroondah City Council</th>\n",
       "      <td>1.583229e+00</td>\n",
       "    </tr>\n",
       "    <tr>\n",
       "      <th>CouncilArea_Melbourne City Council</th>\n",
       "      <td>3.734895e+00</td>\n",
       "    </tr>\n",
       "    <tr>\n",
       "      <th>CouncilArea_Melton City Council</th>\n",
       "      <td>3.421090e+00</td>\n",
       "    </tr>\n",
       "    <tr>\n",
       "      <th>CouncilArea_Mitchell Shire Council</th>\n",
       "      <td>1.451865e+00</td>\n",
       "    </tr>\n",
       "    <tr>\n",
       "      <th>CouncilArea_Monash City Council</th>\n",
       "      <td>2.586793e+00</td>\n",
       "    </tr>\n",
       "    <tr>\n",
       "      <th>CouncilArea_Moonee Valley City Council</th>\n",
       "      <td>1.145548e+01</td>\n",
       "    </tr>\n",
       "    <tr>\n",
       "      <th>CouncilArea_Moorabool Shire Council</th>\n",
       "      <td>1.179958e+00</td>\n",
       "    </tr>\n",
       "    <tr>\n",
       "      <th>CouncilArea_Moreland City Council</th>\n",
       "      <td>4.139241e+00</td>\n",
       "    </tr>\n",
       "    <tr>\n",
       "      <th>CouncilArea_NA</th>\n",
       "      <td>inf</td>\n",
       "    </tr>\n",
       "    <tr>\n",
       "      <th>CouncilArea_Nillumbik Shire Council</th>\n",
       "      <td>3.329178e+00</td>\n",
       "    </tr>\n",
       "    <tr>\n",
       "      <th>CouncilArea_Port Phillip City Council</th>\n",
       "      <td>3.388161e+00</td>\n",
       "    </tr>\n",
       "    <tr>\n",
       "      <th>CouncilArea_Stonnington City Council</th>\n",
       "      <td>2.880992e+00</td>\n",
       "    </tr>\n",
       "    <tr>\n",
       "      <th>CouncilArea_Whitehorse City Council</th>\n",
       "      <td>1.435677e+00</td>\n",
       "    </tr>\n",
       "    <tr>\n",
       "      <th>CouncilArea_Whittlesea City Council</th>\n",
       "      <td>2.388756e+00</td>\n",
       "    </tr>\n",
       "    <tr>\n",
       "      <th>CouncilArea_Wyndham City Council</th>\n",
       "      <td>4.704437e+00</td>\n",
       "    </tr>\n",
       "    <tr>\n",
       "      <th>CouncilArea_Yarra City Council</th>\n",
       "      <td>3.084014e+00</td>\n",
       "    </tr>\n",
       "    <tr>\n",
       "      <th>CouncilArea_Yarra Ranges Shire Council</th>\n",
       "      <td>2.702342e+00</td>\n",
       "    </tr>\n",
       "    <tr>\n",
       "      <th>Regionname_Eastern Victoria</th>\n",
       "      <td>3.815205e+00</td>\n",
       "    </tr>\n",
       "    <tr>\n",
       "      <th>Regionname_NA</th>\n",
       "      <td>inf</td>\n",
       "    </tr>\n",
       "    <tr>\n",
       "      <th>Regionname_Northern Metropolitan</th>\n",
       "      <td>1.170154e+01</td>\n",
       "    </tr>\n",
       "    <tr>\n",
       "      <th>Regionname_Northern Victoria</th>\n",
       "      <td>5.221903e+00</td>\n",
       "    </tr>\n",
       "    <tr>\n",
       "      <th>Regionname_South-Eastern Metropolitan</th>\n",
       "      <td>6.270837e+00</td>\n",
       "    </tr>\n",
       "    <tr>\n",
       "      <th>Regionname_Southern Metropolitan</th>\n",
       "      <td>1.220277e+01</td>\n",
       "    </tr>\n",
       "    <tr>\n",
       "      <th>Regionname_Western Metropolitan</th>\n",
       "      <td>3.263347e+01</td>\n",
       "    </tr>\n",
       "    <tr>\n",
       "      <th>Regionname_Western Victoria</th>\n",
       "      <td>2.872547e+00</td>\n",
       "    </tr>\n",
       "  </tbody>\n",
       "</table>\n",
       "</div>"
      ],
      "text/plain": [
       "                                                     VIF\n",
       "const                                       3.495296e+06\n",
       "Rooms                                       2.898517e+00\n",
       "Distance                                    7.293483e+00\n",
       "Bedroom2                                    3.033049e+00\n",
       "Bathroom                                    1.628433e+00\n",
       "Car                                         1.255085e+00\n",
       "Landsize                                    1.431170e+00\n",
       "Lattitude                                   2.604415e+00\n",
       "Longtitude                                  2.763425e+00\n",
       "Propertycount                               1.557321e+00\n",
       "Type_t                                      1.147541e+00\n",
       "Type_u                                      1.666625e+00\n",
       "Method_S                                    2.351285e+00\n",
       "Method_SA                                   1.063347e+00\n",
       "Method_SP                                   1.930321e+00\n",
       "Method_VB                                   1.633709e+00\n",
       "CouncilArea_Bayside City Council            4.028584e+00\n",
       "CouncilArea_Boroondara City Council         5.536809e+00\n",
       "CouncilArea_Brimbank City Council           9.610406e+00\n",
       "CouncilArea_Cardinia Shire Council          1.741928e+00\n",
       "CouncilArea_Casey City Council              2.115745e+00\n",
       "CouncilArea_Darebin City Council            5.443732e+00\n",
       "CouncilArea_Frankston City Council          2.953638e+00\n",
       "CouncilArea_Glen Eira City Council          5.042773e+00\n",
       "CouncilArea_Greater Dandenong City Council  2.285843e+00\n",
       "CouncilArea_Hobsons Bay City Council        6.398726e+00\n",
       "CouncilArea_Hume City Council               3.035048e+00\n",
       "CouncilArea_Kingston City Council           4.391914e+00\n",
       "CouncilArea_Knox City Council               1.453136e+00\n",
       "CouncilArea_Macedon Ranges Shire Council    1.751662e+00\n",
       "CouncilArea_Manningham City Council         1.765318e+00\n",
       "CouncilArea_Maribyrnong City Council        9.797813e+00\n",
       "CouncilArea_Maroondah City Council          1.583229e+00\n",
       "CouncilArea_Melbourne City Council          3.734895e+00\n",
       "CouncilArea_Melton City Council             3.421090e+00\n",
       "CouncilArea_Mitchell Shire Council          1.451865e+00\n",
       "CouncilArea_Monash City Council             2.586793e+00\n",
       "CouncilArea_Moonee Valley City Council      1.145548e+01\n",
       "CouncilArea_Moorabool Shire Council         1.179958e+00\n",
       "CouncilArea_Moreland City Council           4.139241e+00\n",
       "CouncilArea_NA                                       inf\n",
       "CouncilArea_Nillumbik Shire Council         3.329178e+00\n",
       "CouncilArea_Port Phillip City Council       3.388161e+00\n",
       "CouncilArea_Stonnington City Council        2.880992e+00\n",
       "CouncilArea_Whitehorse City Council         1.435677e+00\n",
       "CouncilArea_Whittlesea City Council         2.388756e+00\n",
       "CouncilArea_Wyndham City Council            4.704437e+00\n",
       "CouncilArea_Yarra City Council              3.084014e+00\n",
       "CouncilArea_Yarra Ranges Shire Council      2.702342e+00\n",
       "Regionname_Eastern Victoria                 3.815205e+00\n",
       "Regionname_NA                                        inf\n",
       "Regionname_Northern Metropolitan            1.170154e+01\n",
       "Regionname_Northern Victoria                5.221903e+00\n",
       "Regionname_South-Eastern Metropolitan       6.270837e+00\n",
       "Regionname_Southern Metropolitan            1.220277e+01\n",
       "Regionname_Western Metropolitan             3.263347e+01\n",
       "Regionname_Western Victoria                 2.872547e+00"
      ]
     },
     "execution_count": 236,
     "metadata": {},
     "output_type": "execute_result"
    }
   ],
   "source": [
    "from statsmodels.stats.outliers_influence import variance_inflation_factor\n",
    "vif = [variance_inflation_factor(X_train.values,i) for i in range(X_train.shape[1])]\n",
    "pd.DataFrame({'VIF':vif}, index = X_train.columns)"
   ]
  },
  {
   "cell_type": "markdown",
   "id": "04aac2f7",
   "metadata": {},
   "source": [
    "#### We'll use backward elimination technique to remove based on the p-value"
   ]
  },
  {
   "cell_type": "code",
   "execution_count": 237,
   "id": "f9e7cb8e",
   "metadata": {},
   "outputs": [
    {
     "name": "stdout",
     "output_type": "stream",
     "text": [
      "['Rooms', 'Distance', 'Bedroom2', 'Bathroom', 'Car', 'Landsize', 'Lattitude', 'Longtitude', 'Type_t', 'Type_u', 'Method_S', 'Method_SP', 'CouncilArea_Bayside City Council', 'CouncilArea_Boroondara City Council', 'CouncilArea_Brimbank City Council', 'CouncilArea_Cardinia Shire Council', 'CouncilArea_Casey City Council', 'CouncilArea_Darebin City Council', 'CouncilArea_Frankston City Council', 'CouncilArea_Glen Eira City Council', 'CouncilArea_Greater Dandenong City Council', 'CouncilArea_Hume City Council', 'CouncilArea_Kingston City Council', 'CouncilArea_Macedon Ranges Shire Council', 'CouncilArea_Manningham City Council', 'CouncilArea_Maribyrnong City Council', 'CouncilArea_Maroondah City Council', 'CouncilArea_Melbourne City Council', 'CouncilArea_Melton City Council', 'CouncilArea_Mitchell Shire Council', 'CouncilArea_Monash City Council', 'CouncilArea_Moonee Valley City Council', 'CouncilArea_Moreland City Council', 'CouncilArea_Port Phillip City Council', 'CouncilArea_Stonnington City Council', 'CouncilArea_Whitehorse City Council', 'CouncilArea_Wyndham City Council', 'CouncilArea_Yarra City Council', 'Regionname_Northern Metropolitan', 'Regionname_South-Eastern Metropolitan', 'Regionname_Southern Metropolitan', 'Regionname_Western Metropolitan']\n"
     ]
    }
   ],
   "source": [
    "cols = X_train.columns.tolist()\n",
    "pmax = 1\n",
    "\n",
    "while (len(cols)>0):\n",
    "    X_1=X_train[cols]\n",
    "    model=sm.OLS(y_train,X_1).fit()\n",
    "    p=pd.Series(model.pvalues.values, index=cols)\n",
    "    pmax=max(p)\n",
    "    feature_max_p=p.idxmax()\n",
    "    if (pmax > 0.05):\n",
    "        cols.remove(feature_max_p)\n",
    "    else:\n",
    "        break\n",
    "        \n",
    "selected_features_BE = cols\n",
    "print(selected_features_BE)"
   ]
  },
  {
   "cell_type": "code",
   "execution_count": 238,
   "id": "407cad51",
   "metadata": {},
   "outputs": [
    {
     "data": {
      "text/plain": [
       "42"
      ]
     },
     "execution_count": 238,
     "metadata": {},
     "output_type": "execute_result"
    }
   ],
   "source": [
    "len(selected_features_BE)"
   ]
  },
  {
   "cell_type": "code",
   "execution_count": 239,
   "id": "a4dd740b",
   "metadata": {},
   "outputs": [
    {
     "name": "stdout",
     "output_type": "stream",
     "text": [
      "                                 OLS Regression Results                                \n",
      "=======================================================================================\n",
      "Dep. Variable:                  Price   R-squared (uncentered):                   0.943\n",
      "Model:                            OLS   Adj. R-squared (uncentered):              0.943\n",
      "Method:                 Least Squares   F-statistic:                              7055.\n",
      "Date:                Sun, 25 Jul 2021   Prob (F-statistic):                        0.00\n",
      "Time:                        14:19:46   Log-Likelihood:                     -2.4773e+05\n",
      "No. Observations:               17890   AIC:                                  4.955e+05\n",
      "Df Residuals:                   17848   BIC:                                  4.959e+05\n",
      "Df Model:                          42                                                  \n",
      "Covariance Type:            nonrobust                                                  \n",
      "==============================================================================================================\n",
      "                                                 coef    std err          t      P>|t|      [0.025      0.975]\n",
      "--------------------------------------------------------------------------------------------------------------\n",
      "Rooms                                       1.871e+05   3473.642     53.873      0.000     1.8e+05    1.94e+05\n",
      "Distance                                    -2.79e+04    591.734    -47.147      0.000   -2.91e+04   -2.67e+04\n",
      "Bedroom2                                   -3.833e+04   3597.040    -10.655      0.000   -4.54e+04   -3.13e+04\n",
      "Bathroom                                    5.686e+04   3627.462     15.674      0.000    4.97e+04     6.4e+04\n",
      "Car                                         1.018e+04   2139.001      4.759      0.000    5987.240    1.44e+04\n",
      "Landsize                                     112.6616      8.059     13.979      0.000      96.865     128.458\n",
      "Lattitude                                  -2.157e+05   3.16e+04     -6.828      0.000   -2.78e+05   -1.54e+05\n",
      "Longtitude                                 -5.119e+04   8235.455     -6.216      0.000   -6.73e+04    -3.5e+04\n",
      "Type_t                                     -1.982e+05   6363.450    -31.146      0.000   -2.11e+05   -1.86e+05\n",
      "Type_u                                     -4.194e+05   5800.744    -72.297      0.000   -4.31e+05   -4.08e+05\n",
      "Method_S                                    5.558e+04   4741.633     11.722      0.000    4.63e+04    6.49e+04\n",
      "Method_SP                                   2.607e+04   6623.830      3.936      0.000    1.31e+04    3.91e+04\n",
      "CouncilArea_Bayside City Council            5.448e+05   1.68e+04     32.433      0.000    5.12e+05    5.78e+05\n",
      "CouncilArea_Boroondara City Council         4.511e+05   1.51e+04     29.845      0.000    4.22e+05    4.81e+05\n",
      "CouncilArea_Brimbank City Council          -2.093e+05   1.26e+04    -16.651      0.000   -2.34e+05   -1.85e+05\n",
      "CouncilArea_Cardinia Shire Council          2.764e+05   6.23e+04      4.439      0.000    1.54e+05    3.98e+05\n",
      "CouncilArea_Casey City Council              1.495e+05    3.2e+04      4.678      0.000    8.68e+04    2.12e+05\n",
      "CouncilArea_Darebin City Council             1.13e+05   1.07e+04     10.573      0.000     9.2e+04    1.34e+05\n",
      "CouncilArea_Frankston City Council          3.607e+05   3.07e+04     11.734      0.000       3e+05    4.21e+05\n",
      "CouncilArea_Glen Eira City Council          3.116e+05   1.58e+04     19.714      0.000    2.81e+05    3.43e+05\n",
      "CouncilArea_Greater Dandenong City Council  1.408e+05   2.82e+04      4.996      0.000    8.56e+04    1.96e+05\n",
      "CouncilArea_Hume City Council              -9.129e+04   1.19e+04     -7.672      0.000   -1.15e+05    -6.8e+04\n",
      "CouncilArea_Kingston City Council           3.037e+05    2.1e+04     14.431      0.000    2.62e+05    3.45e+05\n",
      "CouncilArea_Macedon Ranges Shire Council    4.874e+05   6.75e+04      7.224      0.000    3.55e+05     6.2e+05\n",
      "CouncilArea_Manningham City Council         1.692e+05   1.31e+04     12.919      0.000    1.44e+05    1.95e+05\n",
      "CouncilArea_Maribyrnong City Council       -8.895e+04   1.31e+04     -6.801      0.000   -1.15e+05   -6.33e+04\n",
      "CouncilArea_Maroondah City Council          1.109e+05   1.78e+04      6.220      0.000     7.6e+04    1.46e+05\n",
      "CouncilArea_Melbourne City Council          2.232e+05   1.37e+04     16.269      0.000    1.96e+05     2.5e+05\n",
      "CouncilArea_Melton City Council             -2.08e+05   2.12e+04     -9.792      0.000    -2.5e+05   -1.66e+05\n",
      "CouncilArea_Mitchell Shire Council          3.018e+05   8.56e+04      3.526      0.000    1.34e+05     4.7e+05\n",
      "CouncilArea_Monash City Council             2.507e+05   1.41e+04     17.822      0.000    2.23e+05    2.78e+05\n",
      "CouncilArea_Moonee Valley City Council      9.331e+04   1.25e+04      7.471      0.000    6.88e+04    1.18e+05\n",
      "CouncilArea_Moreland City Council           6.181e+04   1.12e+04      5.505      0.000    3.98e+04    8.38e+04\n",
      "CouncilArea_Port Phillip City Council       2.761e+05   1.78e+04     15.489      0.000    2.41e+05    3.11e+05\n",
      "CouncilArea_Stonnington City Council        3.737e+05   1.82e+04     20.575      0.000    3.38e+05    4.09e+05\n",
      "CouncilArea_Whitehorse City Council         1.764e+05   1.64e+04     10.761      0.000    1.44e+05    2.09e+05\n",
      "CouncilArea_Wyndham City Council           -3.068e+05   1.71e+04    -17.916      0.000    -3.4e+05   -2.73e+05\n",
      "CouncilArea_Yarra City Council              2.401e+05   1.49e+04     16.155      0.000    2.11e+05    2.69e+05\n",
      "Regionname_Northern Metropolitan           -1.941e+05   1.05e+04    -18.575      0.000   -2.15e+05   -1.74e+05\n",
      "Regionname_South-Eastern Metropolitan      -9.679e+04   1.88e+04     -5.143      0.000   -1.34e+05   -5.99e+04\n",
      "Regionname_Southern Metropolitan            -1.06e+05   1.34e+04     -7.912      0.000   -1.32e+05   -7.97e+04\n",
      "Regionname_Western Metropolitan            -1.051e+05   1.22e+04     -8.610      0.000   -1.29e+05   -8.12e+04\n",
      "==============================================================================\n",
      "Omnibus:                     1702.112   Durbin-Watson:                   2.014\n",
      "Prob(Omnibus):                  0.000   Jarque-Bera (JB):             3014.343\n",
      "Skew:                           0.668   Prob(JB):                         0.00\n",
      "Kurtosis:                       4.503   Cond. No.                     2.46e+04\n",
      "==============================================================================\n",
      "\n",
      "Notes:\n",
      "[1] R² is computed without centering (uncentered) since the model does not contain a constant.\n",
      "[2] Standard Errors assume that the covariance matrix of the errors is correctly specified.\n",
      "[3] The condition number is large, 2.46e+04. This might indicate that there are\n",
      "strong multicollinearity or other numerical problems.\n"
     ]
    }
   ],
   "source": [
    "lin_reg = sm.OLS(y_train, X_train[selected_features_BE])\n",
    "result = lin_reg.fit()\n",
    "print(result.summary())"
   ]
  },
  {
   "cell_type": "code",
   "execution_count": 240,
   "id": "eba252dd",
   "metadata": {},
   "outputs": [
    {
     "name": "stdout",
     "output_type": "stream",
     "text": [
      "R2 on the test set: 0.6664338068893567\n"
     ]
    }
   ],
   "source": [
    "from sklearn.metrics import r2_score,mean_squared_error\n",
    "\n",
    "y_pred = result.predict(X_test[selected_features_BE])\n",
    "print('R2 on the test set:',r2_score(y_test,y_pred))"
   ]
  },
  {
   "cell_type": "markdown",
   "id": "d1839bdd",
   "metadata": {},
   "source": [
    "## Over to Machine Learning (Regression)"
   ]
  },
  {
   "cell_type": "code",
   "execution_count": 241,
   "id": "7c637e21",
   "metadata": {},
   "outputs": [],
   "source": [
    "X_train, X_test, y_train, y_test = train_test_split(X, y, test_size=0.3, random_state=42)"
   ]
  },
  {
   "cell_type": "code",
   "execution_count": 242,
   "id": "4f509028",
   "metadata": {},
   "outputs": [
    {
     "name": "stdout",
     "output_type": "stream",
     "text": [
      "R2 of Train:  0.6685540091125213\n",
      "RMSE of train: 249671.08897189284\n"
     ]
    }
   ],
   "source": [
    "lr = LinearRegression(fit_intercept=True) #fit_intercept is for adding constant\n",
    "lr.fit(X_train,y_train)\n",
    "y_pred_train = lr.predict(X_train)\n",
    "print('R2 of Train: ',r2_score(y_train, y_pred_train))\n",
    "print('RMSE of train:',np.sqrt(mean_squared_error(y_train,y_pred_train))) "
   ]
  },
  {
   "cell_type": "markdown",
   "id": "74dd3ff8",
   "metadata": {},
   "source": [
    "RMSE is based on the units. We cant say it's big or small at very first time. If RMSE is lowered from previous value then it can be said that model is improved. Here RMSE is based on \"Price\"."
   ]
  },
  {
   "cell_type": "code",
   "execution_count": 243,
   "id": "7dd3f8c7",
   "metadata": {},
   "outputs": [
    {
     "name": "stdout",
     "output_type": "stream",
     "text": [
      "R2 of Test:  0.6668466071664249\n",
      "RMSE of Test: 249129.27247110035\n"
     ]
    }
   ],
   "source": [
    "y_pred_test = lr.predict(X_test)\n",
    "print('R2 of Test: ',r2_score(y_test, y_pred_test))\n",
    "print('RMSE of Test:',np.sqrt(mean_squared_error(y_test,y_pred_test)))"
   ]
  },
  {
   "cell_type": "markdown",
   "id": "0ae11089",
   "metadata": {},
   "source": [
    "There is no overfitting as values of train & test are similar."
   ]
  },
  {
   "cell_type": "code",
   "execution_count": 253,
   "id": "c3f70cc3",
   "metadata": {},
   "outputs": [
    {
     "data": {
      "text/html": [
       "<div>\n",
       "<style scoped>\n",
       "    .dataframe tbody tr th:only-of-type {\n",
       "        vertical-align: middle;\n",
       "    }\n",
       "\n",
       "    .dataframe tbody tr th {\n",
       "        vertical-align: top;\n",
       "    }\n",
       "\n",
       "    .dataframe thead th {\n",
       "        text-align: right;\n",
       "    }\n",
       "</style>\n",
       "<table border=\"1\" class=\"dataframe\">\n",
       "  <thead>\n",
       "    <tr style=\"text-align: right;\">\n",
       "      <th></th>\n",
       "      <th>coefs</th>\n",
       "    </tr>\n",
       "  </thead>\n",
       "  <tbody>\n",
       "    <tr>\n",
       "      <th>Rooms</th>\n",
       "      <td>187507.908774</td>\n",
       "    </tr>\n",
       "    <tr>\n",
       "      <th>Distance</th>\n",
       "      <td>-28714.902531</td>\n",
       "    </tr>\n",
       "    <tr>\n",
       "      <th>Bedroom2</th>\n",
       "      <td>-38610.374366</td>\n",
       "    </tr>\n",
       "    <tr>\n",
       "      <th>Bathroom</th>\n",
       "      <td>56962.040343</td>\n",
       "    </tr>\n",
       "    <tr>\n",
       "      <th>Car</th>\n",
       "      <td>10230.104106</td>\n",
       "    </tr>\n",
       "    <tr>\n",
       "      <th>Landsize</th>\n",
       "      <td>111.941665</td>\n",
       "    </tr>\n",
       "    <tr>\n",
       "      <th>Lattitude</th>\n",
       "      <td>-204931.943362</td>\n",
       "    </tr>\n",
       "    <tr>\n",
       "      <th>Longtitude</th>\n",
       "      <td>-32190.785865</td>\n",
       "    </tr>\n",
       "    <tr>\n",
       "      <th>Propertycount</th>\n",
       "      <td>-0.926760</td>\n",
       "    </tr>\n",
       "    <tr>\n",
       "      <th>Type_t</th>\n",
       "      <td>-197771.959800</td>\n",
       "    </tr>\n",
       "    <tr>\n",
       "      <th>Type_u</th>\n",
       "      <td>-418272.075733</td>\n",
       "    </tr>\n",
       "    <tr>\n",
       "      <th>Method_S</th>\n",
       "      <td>56310.546463</td>\n",
       "    </tr>\n",
       "    <tr>\n",
       "      <th>Method_SA</th>\n",
       "      <td>3743.369246</td>\n",
       "    </tr>\n",
       "    <tr>\n",
       "      <th>Method_SP</th>\n",
       "      <td>26114.595343</td>\n",
       "    </tr>\n",
       "    <tr>\n",
       "      <th>Method_VB</th>\n",
       "      <td>1878.517392</td>\n",
       "    </tr>\n",
       "    <tr>\n",
       "      <th>CouncilArea_Bayside City Council</th>\n",
       "      <td>555781.131967</td>\n",
       "    </tr>\n",
       "    <tr>\n",
       "      <th>CouncilArea_Boroondara City Council</th>\n",
       "      <td>457031.117462</td>\n",
       "    </tr>\n",
       "    <tr>\n",
       "      <th>CouncilArea_Brimbank City Council</th>\n",
       "      <td>-226053.890064</td>\n",
       "    </tr>\n",
       "    <tr>\n",
       "      <th>CouncilArea_Cardinia Shire Council</th>\n",
       "      <td>300613.413885</td>\n",
       "    </tr>\n",
       "    <tr>\n",
       "      <th>CouncilArea_Casey City Council</th>\n",
       "      <td>170905.099066</td>\n",
       "    </tr>\n",
       "    <tr>\n",
       "      <th>CouncilArea_Darebin City Council</th>\n",
       "      <td>118146.403432</td>\n",
       "    </tr>\n",
       "    <tr>\n",
       "      <th>CouncilArea_Frankston City Council</th>\n",
       "      <td>392677.494918</td>\n",
       "    </tr>\n",
       "    <tr>\n",
       "      <th>CouncilArea_Glen Eira City Council</th>\n",
       "      <td>320716.177751</td>\n",
       "    </tr>\n",
       "    <tr>\n",
       "      <th>CouncilArea_Greater Dandenong City Council</th>\n",
       "      <td>159096.201053</td>\n",
       "    </tr>\n",
       "    <tr>\n",
       "      <th>CouncilArea_Hobsons Bay City Council</th>\n",
       "      <td>-18551.253455</td>\n",
       "    </tr>\n",
       "    <tr>\n",
       "      <th>CouncilArea_Hume City Council</th>\n",
       "      <td>-86294.779014</td>\n",
       "    </tr>\n",
       "    <tr>\n",
       "      <th>CouncilArea_Kingston City Council</th>\n",
       "      <td>315611.948750</td>\n",
       "    </tr>\n",
       "    <tr>\n",
       "      <th>CouncilArea_Knox City Council</th>\n",
       "      <td>38162.687570</td>\n",
       "    </tr>\n",
       "    <tr>\n",
       "      <th>CouncilArea_Macedon Ranges Shire Council</th>\n",
       "      <td>446818.727785</td>\n",
       "    </tr>\n",
       "    <tr>\n",
       "      <th>CouncilArea_Manningham City Council</th>\n",
       "      <td>182419.376174</td>\n",
       "    </tr>\n",
       "    <tr>\n",
       "      <th>CouncilArea_Maribyrnong City Council</th>\n",
       "      <td>-111299.734690</td>\n",
       "    </tr>\n",
       "    <tr>\n",
       "      <th>CouncilArea_Maroondah City Council</th>\n",
       "      <td>128554.461013</td>\n",
       "    </tr>\n",
       "    <tr>\n",
       "      <th>CouncilArea_Melbourne City Council</th>\n",
       "      <td>223098.331193</td>\n",
       "    </tr>\n",
       "    <tr>\n",
       "      <th>CouncilArea_Melton City Council</th>\n",
       "      <td>-248669.344303</td>\n",
       "    </tr>\n",
       "    <tr>\n",
       "      <th>CouncilArea_Mitchell Shire Council</th>\n",
       "      <td>254977.839737</td>\n",
       "    </tr>\n",
       "    <tr>\n",
       "      <th>CouncilArea_Monash City Council</th>\n",
       "      <td>262029.169135</td>\n",
       "    </tr>\n",
       "    <tr>\n",
       "      <th>CouncilArea_Moonee Valley City Council</th>\n",
       "      <td>71305.793833</td>\n",
       "    </tr>\n",
       "    <tr>\n",
       "      <th>CouncilArea_Moorabool Shire Council</th>\n",
       "      <td>22732.191316</td>\n",
       "    </tr>\n",
       "    <tr>\n",
       "      <th>CouncilArea_Moreland City Council</th>\n",
       "      <td>61147.874655</td>\n",
       "    </tr>\n",
       "    <tr>\n",
       "      <th>CouncilArea_NA</th>\n",
       "      <td>17188.968441</td>\n",
       "    </tr>\n",
       "    <tr>\n",
       "      <th>CouncilArea_Nillumbik Shire Council</th>\n",
       "      <td>-87247.114946</td>\n",
       "    </tr>\n",
       "    <tr>\n",
       "      <th>CouncilArea_Port Phillip City Council</th>\n",
       "      <td>281354.961366</td>\n",
       "    </tr>\n",
       "    <tr>\n",
       "      <th>CouncilArea_Stonnington City Council</th>\n",
       "      <td>378173.400312</td>\n",
       "    </tr>\n",
       "    <tr>\n",
       "      <th>CouncilArea_Whitehorse City Council</th>\n",
       "      <td>188381.542013</td>\n",
       "    </tr>\n",
       "    <tr>\n",
       "      <th>CouncilArea_Whittlesea City Council</th>\n",
       "      <td>6506.074655</td>\n",
       "    </tr>\n",
       "    <tr>\n",
       "      <th>CouncilArea_Wyndham City Council</th>\n",
       "      <td>-308790.622730</td>\n",
       "    </tr>\n",
       "    <tr>\n",
       "      <th>CouncilArea_Yarra City Council</th>\n",
       "      <td>236362.677882</td>\n",
       "    </tr>\n",
       "    <tr>\n",
       "      <th>CouncilArea_Yarra Ranges Shire Council</th>\n",
       "      <td>63538.237963</td>\n",
       "    </tr>\n",
       "    <tr>\n",
       "      <th>Regionname_Eastern Victoria</th>\n",
       "      <td>15893.051154</td>\n",
       "    </tr>\n",
       "    <tr>\n",
       "      <th>Regionname_NA</th>\n",
       "      <td>17188.968441</td>\n",
       "    </tr>\n",
       "    <tr>\n",
       "      <th>Regionname_Northern Metropolitan</th>\n",
       "      <td>-182407.286971</td>\n",
       "    </tr>\n",
       "    <tr>\n",
       "      <th>Regionname_Northern Victoria</th>\n",
       "      <td>81098.579791</td>\n",
       "    </tr>\n",
       "    <tr>\n",
       "      <th>Regionname_South-Eastern Metropolitan</th>\n",
       "      <td>-90762.296717</td>\n",
       "    </tr>\n",
       "    <tr>\n",
       "      <th>Regionname_Southern Metropolitan</th>\n",
       "      <td>-101338.517293</td>\n",
       "    </tr>\n",
       "    <tr>\n",
       "      <th>Regionname_Western Metropolitan</th>\n",
       "      <td>-72914.510322</td>\n",
       "    </tr>\n",
       "    <tr>\n",
       "      <th>Regionname_Western Victoria</th>\n",
       "      <td>106207.613930</td>\n",
       "    </tr>\n",
       "  </tbody>\n",
       "</table>\n",
       "</div>"
      ],
      "text/plain": [
       "                                                    coefs\n",
       "Rooms                                       187507.908774\n",
       "Distance                                    -28714.902531\n",
       "Bedroom2                                    -38610.374366\n",
       "Bathroom                                     56962.040343\n",
       "Car                                          10230.104106\n",
       "Landsize                                       111.941665\n",
       "Lattitude                                  -204931.943362\n",
       "Longtitude                                  -32190.785865\n",
       "Propertycount                                   -0.926760\n",
       "Type_t                                     -197771.959800\n",
       "Type_u                                     -418272.075733\n",
       "Method_S                                     56310.546463\n",
       "Method_SA                                     3743.369246\n",
       "Method_SP                                    26114.595343\n",
       "Method_VB                                     1878.517392\n",
       "CouncilArea_Bayside City Council            555781.131967\n",
       "CouncilArea_Boroondara City Council         457031.117462\n",
       "CouncilArea_Brimbank City Council          -226053.890064\n",
       "CouncilArea_Cardinia Shire Council          300613.413885\n",
       "CouncilArea_Casey City Council              170905.099066\n",
       "CouncilArea_Darebin City Council            118146.403432\n",
       "CouncilArea_Frankston City Council          392677.494918\n",
       "CouncilArea_Glen Eira City Council          320716.177751\n",
       "CouncilArea_Greater Dandenong City Council  159096.201053\n",
       "CouncilArea_Hobsons Bay City Council        -18551.253455\n",
       "CouncilArea_Hume City Council               -86294.779014\n",
       "CouncilArea_Kingston City Council           315611.948750\n",
       "CouncilArea_Knox City Council                38162.687570\n",
       "CouncilArea_Macedon Ranges Shire Council    446818.727785\n",
       "CouncilArea_Manningham City Council         182419.376174\n",
       "CouncilArea_Maribyrnong City Council       -111299.734690\n",
       "CouncilArea_Maroondah City Council          128554.461013\n",
       "CouncilArea_Melbourne City Council          223098.331193\n",
       "CouncilArea_Melton City Council            -248669.344303\n",
       "CouncilArea_Mitchell Shire Council          254977.839737\n",
       "CouncilArea_Monash City Council             262029.169135\n",
       "CouncilArea_Moonee Valley City Council       71305.793833\n",
       "CouncilArea_Moorabool Shire Council          22732.191316\n",
       "CouncilArea_Moreland City Council            61147.874655\n",
       "CouncilArea_NA                               17188.968441\n",
       "CouncilArea_Nillumbik Shire Council         -87247.114946\n",
       "CouncilArea_Port Phillip City Council       281354.961366\n",
       "CouncilArea_Stonnington City Council        378173.400312\n",
       "CouncilArea_Whitehorse City Council         188381.542013\n",
       "CouncilArea_Whittlesea City Council           6506.074655\n",
       "CouncilArea_Wyndham City Council           -308790.622730\n",
       "CouncilArea_Yarra City Council              236362.677882\n",
       "CouncilArea_Yarra Ranges Shire Council       63538.237963\n",
       "Regionname_Eastern Victoria                  15893.051154\n",
       "Regionname_NA                                17188.968441\n",
       "Regionname_Northern Metropolitan           -182407.286971\n",
       "Regionname_Northern Victoria                 81098.579791\n",
       "Regionname_South-Eastern Metropolitan       -90762.296717\n",
       "Regionname_Southern Metropolitan           -101338.517293\n",
       "Regionname_Western Metropolitan             -72914.510322\n",
       "Regionname_Western Victoria                 106207.613930"
      ]
     },
     "execution_count": 253,
     "metadata": {},
     "output_type": "execute_result"
    }
   ],
   "source": [
    "pd.DataFrame(lr.coef_,X_train.columns, columns = ['coefs'])"
   ]
  },
  {
   "cell_type": "markdown",
   "id": "41ff95dd",
   "metadata": {},
   "source": [
    "### RFE"
   ]
  },
  {
   "cell_type": "code",
   "execution_count": 254,
   "id": "de64cb66",
   "metadata": {},
   "outputs": [
    {
     "data": {
      "text/plain": [
       "(17890, 56)"
      ]
     },
     "execution_count": 254,
     "metadata": {},
     "output_type": "execute_result"
    }
   ],
   "source": [
    "X_train.shape"
   ]
  },
  {
   "cell_type": "code",
   "execution_count": 255,
   "id": "30433c5d",
   "metadata": {},
   "outputs": [
    {
     "name": "stderr",
     "output_type": "stream",
     "text": [
      "C:\\Users\\prasa\\Anaconda3\\lib\\site-packages\\sklearn\\utils\\validation.py:70: FutureWarning: Pass n_features_to_select=1 as keyword args. From version 1.0 (renaming of 0.25) passing these as positional arguments will result in an error\n",
      "  warnings.warn(f\"Pass {args_msg} as keyword args. From version \"\n",
      "C:\\Users\\prasa\\Anaconda3\\lib\\site-packages\\sklearn\\utils\\validation.py:70: FutureWarning: Pass n_features_to_select=2 as keyword args. From version 1.0 (renaming of 0.25) passing these as positional arguments will result in an error\n",
      "  warnings.warn(f\"Pass {args_msg} as keyword args. From version \"\n",
      "C:\\Users\\prasa\\Anaconda3\\lib\\site-packages\\sklearn\\utils\\validation.py:70: FutureWarning: Pass n_features_to_select=3 as keyword args. From version 1.0 (renaming of 0.25) passing these as positional arguments will result in an error\n",
      "  warnings.warn(f\"Pass {args_msg} as keyword args. From version \"\n",
      "C:\\Users\\prasa\\Anaconda3\\lib\\site-packages\\sklearn\\utils\\validation.py:70: FutureWarning: Pass n_features_to_select=4 as keyword args. From version 1.0 (renaming of 0.25) passing these as positional arguments will result in an error\n",
      "  warnings.warn(f\"Pass {args_msg} as keyword args. From version \"\n",
      "C:\\Users\\prasa\\Anaconda3\\lib\\site-packages\\sklearn\\utils\\validation.py:70: FutureWarning: Pass n_features_to_select=5 as keyword args. From version 1.0 (renaming of 0.25) passing these as positional arguments will result in an error\n",
      "  warnings.warn(f\"Pass {args_msg} as keyword args. From version \"\n",
      "C:\\Users\\prasa\\Anaconda3\\lib\\site-packages\\sklearn\\utils\\validation.py:70: FutureWarning: Pass n_features_to_select=6 as keyword args. From version 1.0 (renaming of 0.25) passing these as positional arguments will result in an error\n",
      "  warnings.warn(f\"Pass {args_msg} as keyword args. From version \"\n",
      "C:\\Users\\prasa\\Anaconda3\\lib\\site-packages\\sklearn\\utils\\validation.py:70: FutureWarning: Pass n_features_to_select=7 as keyword args. From version 1.0 (renaming of 0.25) passing these as positional arguments will result in an error\n",
      "  warnings.warn(f\"Pass {args_msg} as keyword args. From version \"\n",
      "C:\\Users\\prasa\\Anaconda3\\lib\\site-packages\\sklearn\\utils\\validation.py:70: FutureWarning: Pass n_features_to_select=8 as keyword args. From version 1.0 (renaming of 0.25) passing these as positional arguments will result in an error\n",
      "  warnings.warn(f\"Pass {args_msg} as keyword args. From version \"\n",
      "C:\\Users\\prasa\\Anaconda3\\lib\\site-packages\\sklearn\\utils\\validation.py:70: FutureWarning: Pass n_features_to_select=9 as keyword args. From version 1.0 (renaming of 0.25) passing these as positional arguments will result in an error\n",
      "  warnings.warn(f\"Pass {args_msg} as keyword args. From version \"\n",
      "C:\\Users\\prasa\\Anaconda3\\lib\\site-packages\\sklearn\\utils\\validation.py:70: FutureWarning: Pass n_features_to_select=10 as keyword args. From version 1.0 (renaming of 0.25) passing these as positional arguments will result in an error\n",
      "  warnings.warn(f\"Pass {args_msg} as keyword args. From version \"\n",
      "C:\\Users\\prasa\\Anaconda3\\lib\\site-packages\\sklearn\\utils\\validation.py:70: FutureWarning: Pass n_features_to_select=11 as keyword args. From version 1.0 (renaming of 0.25) passing these as positional arguments will result in an error\n",
      "  warnings.warn(f\"Pass {args_msg} as keyword args. From version \"\n",
      "C:\\Users\\prasa\\Anaconda3\\lib\\site-packages\\sklearn\\utils\\validation.py:70: FutureWarning: Pass n_features_to_select=12 as keyword args. From version 1.0 (renaming of 0.25) passing these as positional arguments will result in an error\n",
      "  warnings.warn(f\"Pass {args_msg} as keyword args. From version \"\n",
      "C:\\Users\\prasa\\Anaconda3\\lib\\site-packages\\sklearn\\utils\\validation.py:70: FutureWarning: Pass n_features_to_select=13 as keyword args. From version 1.0 (renaming of 0.25) passing these as positional arguments will result in an error\n",
      "  warnings.warn(f\"Pass {args_msg} as keyword args. From version \"\n",
      "C:\\Users\\prasa\\Anaconda3\\lib\\site-packages\\sklearn\\utils\\validation.py:70: FutureWarning: Pass n_features_to_select=14 as keyword args. From version 1.0 (renaming of 0.25) passing these as positional arguments will result in an error\n",
      "  warnings.warn(f\"Pass {args_msg} as keyword args. From version \"\n",
      "C:\\Users\\prasa\\Anaconda3\\lib\\site-packages\\sklearn\\utils\\validation.py:70: FutureWarning: Pass n_features_to_select=15 as keyword args. From version 1.0 (renaming of 0.25) passing these as positional arguments will result in an error\n",
      "  warnings.warn(f\"Pass {args_msg} as keyword args. From version \"\n",
      "C:\\Users\\prasa\\Anaconda3\\lib\\site-packages\\sklearn\\utils\\validation.py:70: FutureWarning: Pass n_features_to_select=16 as keyword args. From version 1.0 (renaming of 0.25) passing these as positional arguments will result in an error\n",
      "  warnings.warn(f\"Pass {args_msg} as keyword args. From version \"\n",
      "C:\\Users\\prasa\\Anaconda3\\lib\\site-packages\\sklearn\\utils\\validation.py:70: FutureWarning: Pass n_features_to_select=17 as keyword args. From version 1.0 (renaming of 0.25) passing these as positional arguments will result in an error\n",
      "  warnings.warn(f\"Pass {args_msg} as keyword args. From version \"\n",
      "C:\\Users\\prasa\\Anaconda3\\lib\\site-packages\\sklearn\\utils\\validation.py:70: FutureWarning: Pass n_features_to_select=18 as keyword args. From version 1.0 (renaming of 0.25) passing these as positional arguments will result in an error\n",
      "  warnings.warn(f\"Pass {args_msg} as keyword args. From version \"\n",
      "C:\\Users\\prasa\\Anaconda3\\lib\\site-packages\\sklearn\\utils\\validation.py:70: FutureWarning: Pass n_features_to_select=19 as keyword args. From version 1.0 (renaming of 0.25) passing these as positional arguments will result in an error\n",
      "  warnings.warn(f\"Pass {args_msg} as keyword args. From version \"\n",
      "C:\\Users\\prasa\\Anaconda3\\lib\\site-packages\\sklearn\\utils\\validation.py:70: FutureWarning: Pass n_features_to_select=20 as keyword args. From version 1.0 (renaming of 0.25) passing these as positional arguments will result in an error\n",
      "  warnings.warn(f\"Pass {args_msg} as keyword args. From version \"\n",
      "C:\\Users\\prasa\\Anaconda3\\lib\\site-packages\\sklearn\\utils\\validation.py:70: FutureWarning: Pass n_features_to_select=21 as keyword args. From version 1.0 (renaming of 0.25) passing these as positional arguments will result in an error\n",
      "  warnings.warn(f\"Pass {args_msg} as keyword args. From version \"\n",
      "C:\\Users\\prasa\\Anaconda3\\lib\\site-packages\\sklearn\\utils\\validation.py:70: FutureWarning: Pass n_features_to_select=22 as keyword args. From version 1.0 (renaming of 0.25) passing these as positional arguments will result in an error\n",
      "  warnings.warn(f\"Pass {args_msg} as keyword args. From version \"\n",
      "C:\\Users\\prasa\\Anaconda3\\lib\\site-packages\\sklearn\\utils\\validation.py:70: FutureWarning: Pass n_features_to_select=23 as keyword args. From version 1.0 (renaming of 0.25) passing these as positional arguments will result in an error\n",
      "  warnings.warn(f\"Pass {args_msg} as keyword args. From version \"\n",
      "C:\\Users\\prasa\\Anaconda3\\lib\\site-packages\\sklearn\\utils\\validation.py:70: FutureWarning: Pass n_features_to_select=24 as keyword args. From version 1.0 (renaming of 0.25) passing these as positional arguments will result in an error\n",
      "  warnings.warn(f\"Pass {args_msg} as keyword args. From version \"\n",
      "C:\\Users\\prasa\\Anaconda3\\lib\\site-packages\\sklearn\\utils\\validation.py:70: FutureWarning: Pass n_features_to_select=25 as keyword args. From version 1.0 (renaming of 0.25) passing these as positional arguments will result in an error\n",
      "  warnings.warn(f\"Pass {args_msg} as keyword args. From version \"\n",
      "C:\\Users\\prasa\\Anaconda3\\lib\\site-packages\\sklearn\\utils\\validation.py:70: FutureWarning: Pass n_features_to_select=26 as keyword args. From version 1.0 (renaming of 0.25) passing these as positional arguments will result in an error\n",
      "  warnings.warn(f\"Pass {args_msg} as keyword args. From version \"\n",
      "C:\\Users\\prasa\\Anaconda3\\lib\\site-packages\\sklearn\\utils\\validation.py:70: FutureWarning: Pass n_features_to_select=27 as keyword args. From version 1.0 (renaming of 0.25) passing these as positional arguments will result in an error\n",
      "  warnings.warn(f\"Pass {args_msg} as keyword args. From version \"\n",
      "C:\\Users\\prasa\\Anaconda3\\lib\\site-packages\\sklearn\\utils\\validation.py:70: FutureWarning: Pass n_features_to_select=28 as keyword args. From version 1.0 (renaming of 0.25) passing these as positional arguments will result in an error\n",
      "  warnings.warn(f\"Pass {args_msg} as keyword args. From version \"\n"
     ]
    },
    {
     "name": "stderr",
     "output_type": "stream",
     "text": [
      "C:\\Users\\prasa\\Anaconda3\\lib\\site-packages\\sklearn\\utils\\validation.py:70: FutureWarning: Pass n_features_to_select=29 as keyword args. From version 1.0 (renaming of 0.25) passing these as positional arguments will result in an error\n",
      "  warnings.warn(f\"Pass {args_msg} as keyword args. From version \"\n",
      "C:\\Users\\prasa\\Anaconda3\\lib\\site-packages\\sklearn\\utils\\validation.py:70: FutureWarning: Pass n_features_to_select=30 as keyword args. From version 1.0 (renaming of 0.25) passing these as positional arguments will result in an error\n",
      "  warnings.warn(f\"Pass {args_msg} as keyword args. From version \"\n",
      "C:\\Users\\prasa\\Anaconda3\\lib\\site-packages\\sklearn\\utils\\validation.py:70: FutureWarning: Pass n_features_to_select=31 as keyword args. From version 1.0 (renaming of 0.25) passing these as positional arguments will result in an error\n",
      "  warnings.warn(f\"Pass {args_msg} as keyword args. From version \"\n",
      "C:\\Users\\prasa\\Anaconda3\\lib\\site-packages\\sklearn\\utils\\validation.py:70: FutureWarning: Pass n_features_to_select=32 as keyword args. From version 1.0 (renaming of 0.25) passing these as positional arguments will result in an error\n",
      "  warnings.warn(f\"Pass {args_msg} as keyword args. From version \"\n",
      "C:\\Users\\prasa\\Anaconda3\\lib\\site-packages\\sklearn\\utils\\validation.py:70: FutureWarning: Pass n_features_to_select=33 as keyword args. From version 1.0 (renaming of 0.25) passing these as positional arguments will result in an error\n",
      "  warnings.warn(f\"Pass {args_msg} as keyword args. From version \"\n",
      "C:\\Users\\prasa\\Anaconda3\\lib\\site-packages\\sklearn\\utils\\validation.py:70: FutureWarning: Pass n_features_to_select=34 as keyword args. From version 1.0 (renaming of 0.25) passing these as positional arguments will result in an error\n",
      "  warnings.warn(f\"Pass {args_msg} as keyword args. From version \"\n",
      "C:\\Users\\prasa\\Anaconda3\\lib\\site-packages\\sklearn\\utils\\validation.py:70: FutureWarning: Pass n_features_to_select=35 as keyword args. From version 1.0 (renaming of 0.25) passing these as positional arguments will result in an error\n",
      "  warnings.warn(f\"Pass {args_msg} as keyword args. From version \"\n",
      "C:\\Users\\prasa\\Anaconda3\\lib\\site-packages\\sklearn\\utils\\validation.py:70: FutureWarning: Pass n_features_to_select=36 as keyword args. From version 1.0 (renaming of 0.25) passing these as positional arguments will result in an error\n",
      "  warnings.warn(f\"Pass {args_msg} as keyword args. From version \"\n",
      "C:\\Users\\prasa\\Anaconda3\\lib\\site-packages\\sklearn\\utils\\validation.py:70: FutureWarning: Pass n_features_to_select=37 as keyword args. From version 1.0 (renaming of 0.25) passing these as positional arguments will result in an error\n",
      "  warnings.warn(f\"Pass {args_msg} as keyword args. From version \"\n",
      "C:\\Users\\prasa\\Anaconda3\\lib\\site-packages\\sklearn\\utils\\validation.py:70: FutureWarning: Pass n_features_to_select=38 as keyword args. From version 1.0 (renaming of 0.25) passing these as positional arguments will result in an error\n",
      "  warnings.warn(f\"Pass {args_msg} as keyword args. From version \"\n",
      "C:\\Users\\prasa\\Anaconda3\\lib\\site-packages\\sklearn\\utils\\validation.py:70: FutureWarning: Pass n_features_to_select=39 as keyword args. From version 1.0 (renaming of 0.25) passing these as positional arguments will result in an error\n",
      "  warnings.warn(f\"Pass {args_msg} as keyword args. From version \"\n",
      "C:\\Users\\prasa\\Anaconda3\\lib\\site-packages\\sklearn\\utils\\validation.py:70: FutureWarning: Pass n_features_to_select=40 as keyword args. From version 1.0 (renaming of 0.25) passing these as positional arguments will result in an error\n",
      "  warnings.warn(f\"Pass {args_msg} as keyword args. From version \"\n",
      "C:\\Users\\prasa\\Anaconda3\\lib\\site-packages\\sklearn\\utils\\validation.py:70: FutureWarning: Pass n_features_to_select=41 as keyword args. From version 1.0 (renaming of 0.25) passing these as positional arguments will result in an error\n",
      "  warnings.warn(f\"Pass {args_msg} as keyword args. From version \"\n",
      "C:\\Users\\prasa\\Anaconda3\\lib\\site-packages\\sklearn\\utils\\validation.py:70: FutureWarning: Pass n_features_to_select=42 as keyword args. From version 1.0 (renaming of 0.25) passing these as positional arguments will result in an error\n",
      "  warnings.warn(f\"Pass {args_msg} as keyword args. From version \"\n",
      "C:\\Users\\prasa\\Anaconda3\\lib\\site-packages\\sklearn\\utils\\validation.py:70: FutureWarning: Pass n_features_to_select=43 as keyword args. From version 1.0 (renaming of 0.25) passing these as positional arguments will result in an error\n",
      "  warnings.warn(f\"Pass {args_msg} as keyword args. From version \"\n",
      "C:\\Users\\prasa\\Anaconda3\\lib\\site-packages\\sklearn\\utils\\validation.py:70: FutureWarning: Pass n_features_to_select=44 as keyword args. From version 1.0 (renaming of 0.25) passing these as positional arguments will result in an error\n",
      "  warnings.warn(f\"Pass {args_msg} as keyword args. From version \"\n",
      "C:\\Users\\prasa\\Anaconda3\\lib\\site-packages\\sklearn\\utils\\validation.py:70: FutureWarning: Pass n_features_to_select=45 as keyword args. From version 1.0 (renaming of 0.25) passing these as positional arguments will result in an error\n",
      "  warnings.warn(f\"Pass {args_msg} as keyword args. From version \"\n",
      "C:\\Users\\prasa\\Anaconda3\\lib\\site-packages\\sklearn\\utils\\validation.py:70: FutureWarning: Pass n_features_to_select=46 as keyword args. From version 1.0 (renaming of 0.25) passing these as positional arguments will result in an error\n",
      "  warnings.warn(f\"Pass {args_msg} as keyword args. From version \"\n",
      "C:\\Users\\prasa\\Anaconda3\\lib\\site-packages\\sklearn\\utils\\validation.py:70: FutureWarning: Pass n_features_to_select=47 as keyword args. From version 1.0 (renaming of 0.25) passing these as positional arguments will result in an error\n",
      "  warnings.warn(f\"Pass {args_msg} as keyword args. From version \"\n",
      "C:\\Users\\prasa\\Anaconda3\\lib\\site-packages\\sklearn\\utils\\validation.py:70: FutureWarning: Pass n_features_to_select=48 as keyword args. From version 1.0 (renaming of 0.25) passing these as positional arguments will result in an error\n",
      "  warnings.warn(f\"Pass {args_msg} as keyword args. From version \"\n",
      "C:\\Users\\prasa\\Anaconda3\\lib\\site-packages\\sklearn\\utils\\validation.py:70: FutureWarning: Pass n_features_to_select=49 as keyword args. From version 1.0 (renaming of 0.25) passing these as positional arguments will result in an error\n",
      "  warnings.warn(f\"Pass {args_msg} as keyword args. From version \"\n",
      "C:\\Users\\prasa\\Anaconda3\\lib\\site-packages\\sklearn\\utils\\validation.py:70: FutureWarning: Pass n_features_to_select=50 as keyword args. From version 1.0 (renaming of 0.25) passing these as positional arguments will result in an error\n",
      "  warnings.warn(f\"Pass {args_msg} as keyword args. From version \"\n",
      "C:\\Users\\prasa\\Anaconda3\\lib\\site-packages\\sklearn\\utils\\validation.py:70: FutureWarning: Pass n_features_to_select=51 as keyword args. From version 1.0 (renaming of 0.25) passing these as positional arguments will result in an error\n",
      "  warnings.warn(f\"Pass {args_msg} as keyword args. From version \"\n",
      "C:\\Users\\prasa\\Anaconda3\\lib\\site-packages\\sklearn\\utils\\validation.py:70: FutureWarning: Pass n_features_to_select=52 as keyword args. From version 1.0 (renaming of 0.25) passing these as positional arguments will result in an error\n",
      "  warnings.warn(f\"Pass {args_msg} as keyword args. From version \"\n",
      "C:\\Users\\prasa\\Anaconda3\\lib\\site-packages\\sklearn\\utils\\validation.py:70: FutureWarning: Pass n_features_to_select=53 as keyword args. From version 1.0 (renaming of 0.25) passing these as positional arguments will result in an error\n",
      "  warnings.warn(f\"Pass {args_msg} as keyword args. From version \"\n",
      "C:\\Users\\prasa\\Anaconda3\\lib\\site-packages\\sklearn\\utils\\validation.py:70: FutureWarning: Pass n_features_to_select=54 as keyword args. From version 1.0 (renaming of 0.25) passing these as positional arguments will result in an error\n",
      "  warnings.warn(f\"Pass {args_msg} as keyword args. From version \"\n",
      "C:\\Users\\prasa\\Anaconda3\\lib\\site-packages\\sklearn\\utils\\validation.py:70: FutureWarning: Pass n_features_to_select=55 as keyword args. From version 1.0 (renaming of 0.25) passing these as positional arguments will result in an error\n",
      "  warnings.warn(f\"Pass {args_msg} as keyword args. From version \"\n",
      "C:\\Users\\prasa\\Anaconda3\\lib\\site-packages\\sklearn\\utils\\validation.py:70: FutureWarning: Pass n_features_to_select=56 as keyword args. From version 1.0 (renaming of 0.25) passing these as positional arguments will result in an error\n",
      "  warnings.warn(f\"Pass {args_msg} as keyword args. From version \"\n"
     ]
    },
    {
     "data": {
      "text/plain": [
       "[<matplotlib.lines.Line2D at 0x1a32c22a490>]"
      ]
     },
     "execution_count": 255,
     "metadata": {},
     "output_type": "execute_result"
    },
    {
     "data": {
      "image/png": "[encoded data removed]",
      "text/plain": [
       "<Figure size 432x288 with 1 Axes>"
      ]
     },
     "metadata": {
      "needs_background": "light"
     },
     "output_type": "display_data"
    }
   ],
   "source": [
    "noof_cols = 56\n",
    "score_list=[]\n",
    "nof=0  \n",
    "high_score=0\n",
    "for n in range(noof_cols):\n",
    "    X_train, X_test, y_train, y_test = train_test_split(X, y, test_size=0.3, random_state=42)\n",
    "    model=LinearRegression()\n",
    "    rfe = RFE(model, n+1)\n",
    "    X_train_rfe = rfe.fit_transform(X_train,y_train)\n",
    "    X_test_rfe = rfe.transform(X_test)\n",
    "    model.fit(X_train_rfe, y_train)\n",
    "    score = model.score(X_test_rfe, y_test)\n",
    "    score_list.append(score)\n",
    "    \n",
    "plt.plot(score_list)\n",
    "    #if(score>high_score):\n",
    "        #high_score = score\n",
    "        #nof = noof_cols[n]\n",
    "#print(\"Optimum number of features: %d\" %nof)\n",
    "#print(\"Score with %d features: %f\" % (nof, high_score))"
   ]
  },
  {
   "cell_type": "code",
   "execution_count": null,
   "id": "5224a03d",
   "metadata": {},
   "outputs": [],
   "source": []
  }
 ],
 "metadata": {
  "kernelspec": {
   "display_name": "Python 3",
   "language": "python",
   "name": "python3"
  },
  "language_info": {
   "codemirror_mode": {
    "name": "ipython",
    "version": 3
   },
   "file_extension": ".py",
   "mimetype": "text/x-python",
   "name": "python",
   "nbconvert_exporter": "python",
   "pygments_lexer": "ipython3",
   "version": "3.8.8"
  }
 },
 "nbformat": 4,
 "nbformat_minor": 5
}
