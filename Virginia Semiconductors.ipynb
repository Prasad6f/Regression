{
 "cells": [
  {
   "cell_type": "code",
   "execution_count": 2,
   "id": "a67b5dff",
   "metadata": {},
   "outputs": [],
   "source": [
    "import pandas as pd\n",
    "import numpy as np\n",
    "import matplotlib.pyplot as plt\n",
    "import statsmodels.api as sm"
   ]
  },
  {
   "cell_type": "code",
   "execution_count": 3,
   "id": "109d3ba2",
   "metadata": {},
   "outputs": [],
   "source": [
    "v=pd.read_csv(r'C:\\Users\\prasa\\OneDrive\\Desktop\\Regression\\Data\\virginia semiconductors.csv')"
   ]
  },
  {
   "cell_type": "code",
   "execution_count": 4,
   "id": "5418a9b5",
   "metadata": {},
   "outputs": [
    {
     "data": {
      "text/html": [
       "<div>\n",
       "<style scoped>\n",
       "    .dataframe tbody tr th:only-of-type {\n",
       "        vertical-align: middle;\n",
       "    }\n",
       "\n",
       "    .dataframe tbody tr th {\n",
       "        vertical-align: top;\n",
       "    }\n",
       "\n",
       "    .dataframe thead th {\n",
       "        text-align: right;\n",
       "    }\n",
       "</style>\n",
       "<table border=\"1\" class=\"dataframe\">\n",
       "  <thead>\n",
       "    <tr style=\"text-align: right;\">\n",
       "      <th></th>\n",
       "      <th>Size_of_Purchase</th>\n",
       "      <th>Company_Size</th>\n",
       "      <th>%Imports</th>\n",
       "      <th>Distance</th>\n",
       "      <th>Central_Purchaser</th>\n",
       "    </tr>\n",
       "  </thead>\n",
       "  <tbody>\n",
       "    <tr>\n",
       "      <th>0</th>\n",
       "      <td>27.9</td>\n",
       "      <td>25.6</td>\n",
       "      <td>41</td>\n",
       "      <td>18</td>\n",
       "      <td>0</td>\n",
       "    </tr>\n",
       "    <tr>\n",
       "      <th>1</th>\n",
       "      <td>89.6</td>\n",
       "      <td>109.8</td>\n",
       "      <td>16</td>\n",
       "      <td>75</td>\n",
       "      <td>0</td>\n",
       "    </tr>\n",
       "    <tr>\n",
       "      <th>2</th>\n",
       "      <td>12.8</td>\n",
       "      <td>39.4</td>\n",
       "      <td>29</td>\n",
       "      <td>14</td>\n",
       "      <td>0</td>\n",
       "    </tr>\n",
       "    <tr>\n",
       "      <th>3</th>\n",
       "      <td>34.9</td>\n",
       "      <td>16.7</td>\n",
       "      <td>31</td>\n",
       "      <td>117</td>\n",
       "      <td>0</td>\n",
       "    </tr>\n",
       "    <tr>\n",
       "      <th>4</th>\n",
       "      <td>408.6</td>\n",
       "      <td>278.4</td>\n",
       "      <td>14</td>\n",
       "      <td>209</td>\n",
       "      <td>1</td>\n",
       "    </tr>\n",
       "  </tbody>\n",
       "</table>\n",
       "</div>"
      ],
      "text/plain": [
       "   Size_of_Purchase  Company_Size  %Imports  Distance  Central_Purchaser\n",
       "0              27.9          25.6        41        18                  0\n",
       "1              89.6         109.8        16        75                  0\n",
       "2              12.8          39.4        29        14                  0\n",
       "3              34.9          16.7        31       117                  0\n",
       "4             408.6         278.4        14       209                  1"
      ]
     },
     "execution_count": 4,
     "metadata": {},
     "output_type": "execute_result"
    }
   ],
   "source": [
    "v.head()"
   ]
  },
  {
   "cell_type": "code",
   "execution_count": 8,
   "id": "30748bee",
   "metadata": {},
   "outputs": [],
   "source": [
    "y=v.Size_of_Purchase\n",
    "X=v.drop('Size_of_Purchase',axis=1)"
   ]
  },
  {
   "cell_type": "code",
   "execution_count": 11,
   "id": "cbf4dd79",
   "metadata": {},
   "outputs": [],
   "source": [
    "Xc=sm.add_constant(X)"
   ]
  },
  {
   "cell_type": "code",
   "execution_count": 12,
   "id": "30f4ccba",
   "metadata": {},
   "outputs": [
    {
     "name": "stdout",
     "output_type": "stream",
     "text": [
      "                            OLS Regression Results                            \n",
      "==============================================================================\n",
      "Dep. Variable:       Size_of_Purchase   R-squared:                       0.948\n",
      "Model:                            OLS   Adj. R-squared:                  0.931\n",
      "Method:                 Least Squares   F-statistic:                     55.00\n",
      "Date:                Wed, 21 Jul 2021   Prob (F-statistic):           1.28e-07\n",
      "Time:                        11:40:00   Log-Likelihood:                -82.436\n",
      "No. Observations:                  17   AIC:                             174.9\n",
      "Df Residuals:                      12   BIC:                             179.0\n",
      "Df Model:                           4                                         \n",
      "Covariance Type:            nonrobust                                         \n",
      "=====================================================================================\n",
      "                        coef    std err          t      P>|t|      [0.025      0.975]\n",
      "-------------------------------------------------------------------------------------\n",
      "const                -3.6686     30.107     -0.122      0.905     -69.266      61.929\n",
      "Company_Size          1.2687      0.200      6.355      0.000       0.834       1.704\n",
      "%Imports              0.0508      0.865      0.059      0.954      -1.834       1.936\n",
      "Distance             -0.2204      0.256     -0.860      0.407      -0.779       0.338\n",
      "Central_Purchaser   127.3502     23.880      5.333      0.000      75.321     179.380\n",
      "==============================================================================\n",
      "Omnibus:                        2.223   Durbin-Watson:                   1.586\n",
      "Prob(Omnibus):                  0.329   Jarque-Bera (JB):                1.588\n",
      "Skew:                          -0.727   Prob(JB):                        0.452\n",
      "Kurtosis:                       2.640   Cond. No.                         542.\n",
      "==============================================================================\n",
      "\n",
      "Notes:\n",
      "[1] Standard Errors assume that the covariance matrix of the errors is correctly specified.\n"
     ]
    },
    {
     "name": "stderr",
     "output_type": "stream",
     "text": [
      "C:\\Users\\prasa\\Anaconda3\\lib\\site-packages\\scipy\\stats\\stats.py:1603: UserWarning: kurtosistest only valid for n>=20 ... continuing anyway, n=17\n",
      "  warnings.warn(\"kurtosistest only valid for n>=20 ... continuing \"\n"
     ]
    }
   ],
   "source": [
    "model=sm.OLS(y,Xc)\n",
    "result=model.fit()\n",
    "print(result.summary())"
   ]
  },
  {
   "cell_type": "code",
   "execution_count": 13,
   "id": "ed8c6d97",
   "metadata": {},
   "outputs": [
    {
     "name": "stdout",
     "output_type": "stream",
     "text": [
      "                                 OLS Regression Results                                \n",
      "=======================================================================================\n",
      "Dep. Variable:       Size_of_Purchase   R-squared (uncentered):                   0.982\n",
      "Model:                            OLS   Adj. R-squared (uncentered):              0.977\n",
      "Method:                 Least Squares   F-statistic:                              181.9\n",
      "Date:                Wed, 21 Jul 2021   Prob (F-statistic):                    2.86e-11\n",
      "Time:                        11:50:37   Log-Likelihood:                         -82.447\n",
      "No. Observations:                  17   AIC:                                      172.9\n",
      "Df Residuals:                      13   BIC:                                      176.2\n",
      "Df Model:                           4                                                  \n",
      "Covariance Type:            nonrobust                                                  \n",
      "=====================================================================================\n",
      "                        coef    std err          t      P>|t|      [0.025      0.975]\n",
      "-------------------------------------------------------------------------------------\n",
      "Company_Size          1.2766      0.182      7.031      0.000       0.884       1.669\n",
      "%Imports             -0.0361      0.471     -0.077      0.940      -1.053       0.981\n",
      "Distance             -0.2410      0.184     -1.307      0.214      -0.640       0.158\n",
      "Central_Purchaser   126.0227     20.429      6.169      0.000      81.888     170.157\n",
      "==============================================================================\n",
      "Omnibus:                        2.117   Durbin-Watson:                   1.615\n",
      "Prob(Omnibus):                  0.347   Jarque-Bera (JB):                1.525\n",
      "Skew:                          -0.709   Prob(JB):                        0.466\n",
      "Kurtosis:                       2.623   Cond. No.                         346.\n",
      "==============================================================================\n",
      "\n",
      "Notes:\n",
      "[1] R² is computed without centering (uncentered) since the model does not contain a constant.\n",
      "[2] Standard Errors assume that the covariance matrix of the errors is correctly specified.\n"
     ]
    },
    {
     "name": "stderr",
     "output_type": "stream",
     "text": [
      "C:\\Users\\prasa\\Anaconda3\\lib\\site-packages\\scipy\\stats\\stats.py:1603: UserWarning: kurtosistest only valid for n>=20 ... continuing anyway, n=17\n",
      "  warnings.warn(\"kurtosistest only valid for n>=20 ... continuing \"\n"
     ]
    }
   ],
   "source": [
    "model=sm.OLS(y,X)\n",
    "result=model.fit()\n",
    "print(result.summary())"
   ]
  },
  {
   "cell_type": "code",
   "execution_count": 14,
   "id": "ec3cf056",
   "metadata": {},
   "outputs": [],
   "source": [
    "#drop % import"
   ]
  },
  {
   "cell_type": "code",
   "execution_count": 20,
   "id": "46687a22",
   "metadata": {},
   "outputs": [],
   "source": [
    "X=X.drop('Distance',axis=1)"
   ]
  },
  {
   "cell_type": "code",
   "execution_count": 21,
   "id": "0d664217",
   "metadata": {},
   "outputs": [
    {
     "name": "stdout",
     "output_type": "stream",
     "text": [
      "                                 OLS Regression Results                                \n",
      "=======================================================================================\n",
      "Dep. Variable:       Size_of_Purchase   R-squared (uncentered):                   0.980\n",
      "Model:                            OLS   Adj. R-squared (uncentered):              0.977\n",
      "Method:                 Least Squares   F-statistic:                              369.2\n",
      "Date:                Wed, 21 Jul 2021   Prob (F-statistic):                    1.75e-13\n",
      "Time:                        12:04:00   Log-Likelihood:                         -83.518\n",
      "No. Observations:                  17   AIC:                                      171.0\n",
      "Df Residuals:                      15   BIC:                                      172.7\n",
      "Df Model:                           2                                                  \n",
      "Covariance Type:            nonrobust                                                  \n",
      "=====================================================================================\n",
      "                        coef    std err          t      P>|t|      [0.025      0.975]\n",
      "-------------------------------------------------------------------------------------\n",
      "Company_Size          1.1558      0.123      9.408      0.000       0.894       1.418\n",
      "Central_Purchaser   123.8984     20.170      6.143      0.000      80.907     166.890\n",
      "==============================================================================\n",
      "Omnibus:                        2.485   Durbin-Watson:                   1.353\n",
      "Prob(Omnibus):                  0.289   Jarque-Bera (JB):                1.974\n",
      "Skew:                          -0.758   Prob(JB):                        0.373\n",
      "Kurtosis:                       2.303   Cond. No.                         299.\n",
      "==============================================================================\n",
      "\n",
      "Notes:\n",
      "[1] R² is computed without centering (uncentered) since the model does not contain a constant.\n",
      "[2] Standard Errors assume that the covariance matrix of the errors is correctly specified.\n"
     ]
    },
    {
     "name": "stderr",
     "output_type": "stream",
     "text": [
      "C:\\Users\\prasa\\Anaconda3\\lib\\site-packages\\scipy\\stats\\stats.py:1603: UserWarning: kurtosistest only valid for n>=20 ... continuing anyway, n=17\n",
      "  warnings.warn(\"kurtosistest only valid for n>=20 ... continuing \"\n"
     ]
    }
   ],
   "source": [
    "model=sm.OLS(y,X)\n",
    "result=model.fit()\n",
    "print(result.summary())"
   ]
  },
  {
   "cell_type": "code",
   "execution_count": 23,
   "id": "bf4364c4",
   "metadata": {},
   "outputs": [],
   "source": [
    "y_pred=result.predict(X)"
   ]
  },
  {
   "cell_type": "code",
   "execution_count": 25,
   "id": "997a9488",
   "metadata": {},
   "outputs": [
    {
     "data": {
      "image/png": "[encoded data removed]",
      "text/plain": [
       "<Figure size 432x288 with 1 Axes>"
      ]
     },
     "metadata": {
      "needs_background": "light"
     },
     "output_type": "display_data"
    }
   ],
   "source": [
    "plt.plot(y,y,'r')\n",
    "plt.scatter(y,y_pred)\n",
    "plt.show()"
   ]
  },
  {
   "cell_type": "code",
   "execution_count": null,
   "id": "363e1b9e",
   "metadata": {},
   "outputs": [],
   "source": []
  }
 ],
 "metadata": {
  "kernelspec": {
   "display_name": "Python 3",
   "language": "python",
   "name": "python3"
  },
  "language_info": {
   "codemirror_mode": {
    "name": "ipython",
    "version": 3
   },
   "file_extension": ".py",
   "mimetype": "text/x-python",
   "name": "python",
   "nbconvert_exporter": "python",
   "pygments_lexer": "ipython3",
   "version": "3.8.8"
  }
 },
 "nbformat": 4,
 "nbformat_minor": 5
}
